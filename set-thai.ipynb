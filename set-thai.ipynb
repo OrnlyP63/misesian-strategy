{
 "cells": [
  {
   "cell_type": "code",
   "execution_count": 1,
   "id": "e7f2460a-58a4-42cd-82d5-52744d32896c",
   "metadata": {},
   "outputs": [],
   "source": [
    "# import libs\n",
    "import yfinance as yf\n",
    "import pandas as pd\n",
    "import numpy as np\n",
    "\n",
    "import matplotlib.pyplot as plt"
   ]
  },
  {
   "cell_type": "code",
   "execution_count": 2,
   "id": "9869b9a4-5b25-4f09-b626-4a593393e5ab",
   "metadata": {},
   "outputs": [],
   "source": [
    "tickers = ['PTTEP.BK', 'LANNA.BK', 'TIPH.BK']"
   ]
  },
  {
   "cell_type": "code",
   "execution_count": 3,
   "id": "5b3a75ec-3ceb-49d7-93e9-0e4de4bf5491",
   "metadata": {},
   "outputs": [],
   "source": [
    "interval = '1d'\n",
    "start = '2008-8-1'\n",
    "end = '2024-8-1'\n",
    "\n",
    "stock = yf.Ticker(tickers[0])\n",
    "stock_df = stock.history(interval='1d',start=start,end=end)"
   ]
  },
  {
   "cell_type": "code",
   "execution_count": 4,
   "id": "603b5f2d-2b0a-4056-8bee-9c104d9f2fa1",
   "metadata": {},
   "outputs": [
    {
     "data": {
      "text/html": [
       "<div>\n",
       "<style scoped>\n",
       "    .dataframe tbody tr th:only-of-type {\n",
       "        vertical-align: middle;\n",
       "    }\n",
       "\n",
       "    .dataframe tbody tr th {\n",
       "        vertical-align: top;\n",
       "    }\n",
       "\n",
       "    .dataframe thead th {\n",
       "        text-align: right;\n",
       "    }\n",
       "</style>\n",
       "<table border=\"1\" class=\"dataframe\">\n",
       "  <thead>\n",
       "    <tr style=\"text-align: right;\">\n",
       "      <th></th>\n",
       "      <th>Open</th>\n",
       "      <th>High</th>\n",
       "      <th>Low</th>\n",
       "      <th>Close</th>\n",
       "      <th>Volume</th>\n",
       "      <th>Dividends</th>\n",
       "      <th>Stock Splits</th>\n",
       "    </tr>\n",
       "    <tr>\n",
       "      <th>Date</th>\n",
       "      <th></th>\n",
       "      <th></th>\n",
       "      <th></th>\n",
       "      <th></th>\n",
       "      <th></th>\n",
       "      <th></th>\n",
       "      <th></th>\n",
       "    </tr>\n",
       "  </thead>\n",
       "  <tbody>\n",
       "    <tr>\n",
       "      <th>2008-08-01 00:00:00+07:00</th>\n",
       "      <td>74.478489</td>\n",
       "      <td>75.988190</td>\n",
       "      <td>74.478489</td>\n",
       "      <td>74.981720</td>\n",
       "      <td>5993686</td>\n",
       "      <td>0.0</td>\n",
       "      <td>0.0</td>\n",
       "    </tr>\n",
       "    <tr>\n",
       "      <th>2008-08-04 00:00:00+07:00</th>\n",
       "      <td>75.484962</td>\n",
       "      <td>76.491425</td>\n",
       "      <td>74.981723</td>\n",
       "      <td>75.484962</td>\n",
       "      <td>1712907</td>\n",
       "      <td>0.0</td>\n",
       "      <td>0.0</td>\n",
       "    </tr>\n",
       "    <tr>\n",
       "      <th>2008-08-05 00:00:00+07:00</th>\n",
       "      <td>74.478509</td>\n",
       "      <td>74.981741</td>\n",
       "      <td>70.955875</td>\n",
       "      <td>71.459114</td>\n",
       "      <td>13254996</td>\n",
       "      <td>0.0</td>\n",
       "      <td>0.0</td>\n",
       "    </tr>\n",
       "    <tr>\n",
       "      <th>2008-08-06 00:00:00+07:00</th>\n",
       "      <td>72.465557</td>\n",
       "      <td>73.975258</td>\n",
       "      <td>70.955856</td>\n",
       "      <td>72.968788</td>\n",
       "      <td>7215139</td>\n",
       "      <td>0.0</td>\n",
       "      <td>0.0</td>\n",
       "    </tr>\n",
       "    <tr>\n",
       "      <th>2008-08-07 00:00:00+07:00</th>\n",
       "      <td>72.968804</td>\n",
       "      <td>78.504372</td>\n",
       "      <td>71.962342</td>\n",
       "      <td>78.504372</td>\n",
       "      <td>13927231</td>\n",
       "      <td>0.0</td>\n",
       "      <td>0.0</td>\n",
       "    </tr>\n",
       "    <tr>\n",
       "      <th>...</th>\n",
       "      <td>...</td>\n",
       "      <td>...</td>\n",
       "      <td>...</td>\n",
       "      <td>...</td>\n",
       "      <td>...</td>\n",
       "      <td>...</td>\n",
       "      <td>...</td>\n",
       "    </tr>\n",
       "    <tr>\n",
       "      <th>2024-07-24 00:00:00+07:00</th>\n",
       "      <td>144.000000</td>\n",
       "      <td>144.500000</td>\n",
       "      <td>141.500000</td>\n",
       "      <td>143.000000</td>\n",
       "      <td>5941700</td>\n",
       "      <td>0.0</td>\n",
       "      <td>0.0</td>\n",
       "    </tr>\n",
       "    <tr>\n",
       "      <th>2024-07-25 00:00:00+07:00</th>\n",
       "      <td>142.500000</td>\n",
       "      <td>144.500000</td>\n",
       "      <td>142.000000</td>\n",
       "      <td>144.000000</td>\n",
       "      <td>4484300</td>\n",
       "      <td>0.0</td>\n",
       "      <td>0.0</td>\n",
       "    </tr>\n",
       "    <tr>\n",
       "      <th>2024-07-26 00:00:00+07:00</th>\n",
       "      <td>144.000000</td>\n",
       "      <td>147.000000</td>\n",
       "      <td>144.000000</td>\n",
       "      <td>147.000000</td>\n",
       "      <td>5149000</td>\n",
       "      <td>0.0</td>\n",
       "      <td>0.0</td>\n",
       "    </tr>\n",
       "    <tr>\n",
       "      <th>2024-07-30 00:00:00+07:00</th>\n",
       "      <td>147.000000</td>\n",
       "      <td>147.000000</td>\n",
       "      <td>147.000000</td>\n",
       "      <td>147.000000</td>\n",
       "      <td>0</td>\n",
       "      <td>0.0</td>\n",
       "      <td>0.0</td>\n",
       "    </tr>\n",
       "    <tr>\n",
       "      <th>2024-07-31 00:00:00+07:00</th>\n",
       "      <td>145.500000</td>\n",
       "      <td>148.000000</td>\n",
       "      <td>145.500000</td>\n",
       "      <td>147.000000</td>\n",
       "      <td>12085700</td>\n",
       "      <td>0.0</td>\n",
       "      <td>0.0</td>\n",
       "    </tr>\n",
       "  </tbody>\n",
       "</table>\n",
       "<p>3899 rows × 7 columns</p>\n",
       "</div>"
      ],
      "text/plain": [
       "                                 Open        High         Low       Close  \\\n",
       "Date                                                                        \n",
       "2008-08-01 00:00:00+07:00   74.478489   75.988190   74.478489   74.981720   \n",
       "2008-08-04 00:00:00+07:00   75.484962   76.491425   74.981723   75.484962   \n",
       "2008-08-05 00:00:00+07:00   74.478509   74.981741   70.955875   71.459114   \n",
       "2008-08-06 00:00:00+07:00   72.465557   73.975258   70.955856   72.968788   \n",
       "2008-08-07 00:00:00+07:00   72.968804   78.504372   71.962342   78.504372   \n",
       "...                               ...         ...         ...         ...   \n",
       "2024-07-24 00:00:00+07:00  144.000000  144.500000  141.500000  143.000000   \n",
       "2024-07-25 00:00:00+07:00  142.500000  144.500000  142.000000  144.000000   \n",
       "2024-07-26 00:00:00+07:00  144.000000  147.000000  144.000000  147.000000   \n",
       "2024-07-30 00:00:00+07:00  147.000000  147.000000  147.000000  147.000000   \n",
       "2024-07-31 00:00:00+07:00  145.500000  148.000000  145.500000  147.000000   \n",
       "\n",
       "                             Volume  Dividends  Stock Splits  \n",
       "Date                                                          \n",
       "2008-08-01 00:00:00+07:00   5993686        0.0           0.0  \n",
       "2008-08-04 00:00:00+07:00   1712907        0.0           0.0  \n",
       "2008-08-05 00:00:00+07:00  13254996        0.0           0.0  \n",
       "2008-08-06 00:00:00+07:00   7215139        0.0           0.0  \n",
       "2008-08-07 00:00:00+07:00  13927231        0.0           0.0  \n",
       "...                             ...        ...           ...  \n",
       "2024-07-24 00:00:00+07:00   5941700        0.0           0.0  \n",
       "2024-07-25 00:00:00+07:00   4484300        0.0           0.0  \n",
       "2024-07-26 00:00:00+07:00   5149000        0.0           0.0  \n",
       "2024-07-30 00:00:00+07:00         0        0.0           0.0  \n",
       "2024-07-31 00:00:00+07:00  12085700        0.0           0.0  \n",
       "\n",
       "[3899 rows x 7 columns]"
      ]
     },
     "execution_count": 4,
     "metadata": {},
     "output_type": "execute_result"
    }
   ],
   "source": [
    "stock_df"
   ]
  },
  {
   "cell_type": "code",
   "execution_count": 5,
   "id": "c0ea00e8-d9ab-4109-b1db-65b6518c9a3f",
   "metadata": {},
   "outputs": [],
   "source": [
    "stock_df['rets'] = stock_df['Close'].pct_change()"
   ]
  },
  {
   "cell_type": "code",
   "execution_count": 6,
   "id": "5269d86d-3a2f-4f22-a667-c388e6ec1759",
   "metadata": {},
   "outputs": [],
   "source": [
    "set = pd.read_csv('./gmean-set.csv')"
   ]
  },
  {
   "cell_type": "code",
   "execution_count": 7,
   "id": "4a06c54b-9ef5-46e8-895f-142368a6e71b",
   "metadata": {},
   "outputs": [],
   "source": [
    "set['Month-Year'] = pd.to_datetime(set['Month-Year'])\n",
    "set.set_index('Month-Year', inplace=True)"
   ]
  },
  {
   "cell_type": "code",
   "execution_count": 8,
   "id": "0fbac8ea-6558-4b23-840f-e1f006064bbf",
   "metadata": {},
   "outputs": [],
   "source": [
    "set = set[set.index.year >= 2008]"
   ]
  },
  {
   "cell_type": "code",
   "execution_count": 9,
   "id": "920e8344-0e05-4cb0-9c18-2ffe27b267f5",
   "metadata": {},
   "outputs": [],
   "source": [
    "last_quarter = set.iloc[-1, -1]"
   ]
  },
  {
   "cell_type": "code",
   "execution_count": 10,
   "id": "a39cc548-28ea-4435-89eb-57f64c6c7d3c",
   "metadata": {},
   "outputs": [],
   "source": [
    "a = np.array([False]*stock_df.shape[0])\n",
    "\n",
    "for x in set[set['quarter'] == last_quarter].index:\n",
    "    a |= (stock_df.index.year == x.year) & (stock_df.index.month == x.month)"
   ]
  },
  {
   "cell_type": "code",
   "execution_count": 11,
   "id": "5b4313ea-9519-4e92-b49b-13a501a73d91",
   "metadata": {
    "scrolled": true
   },
   "outputs": [
    {
     "data": {
      "text/plain": [
       "Timestamp('2009-01-01 00:00:00+0700', tz='Asia/Bangkok')"
      ]
     },
     "execution_count": 11,
     "metadata": {},
     "output_type": "execute_result"
    }
   ],
   "source": [
    "stock_df[a].index[0] + pd.DateOffset(months=4)"
   ]
  },
  {
   "cell_type": "code",
   "execution_count": 23,
   "id": "8617f89c-9571-4f6c-9aac-24c7c0ca4911",
   "metadata": {},
   "outputs": [],
   "source": [
    "all_returns = []\n",
    "for date in stock_df[a].index:\n",
    "    ret = stock_df.loc[date: date + pd.DateOffset(months=4)]['rets'].tolist()\n",
    "    all_returns.extend(ret)"
   ]
  },
  {
   "cell_type": "code",
   "execution_count": 26,
   "id": "6b5cf69f-ed63-4f1e-9e4e-0bde5f507564",
   "metadata": {},
   "outputs": [],
   "source": [
    "m = 100000 # number of paths\n",
    "d = 120\n",
    "rearrange_return = np.random.choice(all_returns, size= (m, d), replace=True)\n",
    "portfolios = np.exp(np.cumprod(rearrange_return + 1, axis=1))"
   ]
  },
  {
   "cell_type": "code",
   "execution_count": 28,
   "id": "6b1e6cee-5756-43a5-b275-d940548a8b4c",
   "metadata": {},
   "outputs": [
    {
     "data": {
      "image/png": "[encoded data removed]",
      "text/plain": [
       "<Figure size 640x480 with 1 Axes>"
      ]
     },
     "metadata": {},
     "output_type": "display_data"
    }
   ],
   "source": [
    "final_portfolios = portfolios[:, -1] - 1\n",
    "\n",
    "med = np.median(final_portfolios)\n",
    "avg = np.average(final_portfolios)\n",
    "per_5 = np.percentile(np.sort(final_portfolios), 5)\n",
    "per_95 = np.percentile(np.sort(final_portfolios), 95)\n",
    "plt.title(f'average = {avg:.2f}; median = {med:.2f}\\n5th percentile = {per_5:.2f}\\n95th percentile = {per_95:.2f}')\n",
    "plt.xlabel('Payoff')\n",
    "plt.ylabel('Frequency')\n",
    "plt.hist(final_portfolios, 100);"
   ]
  },
  {
   "cell_type": "code",
   "execution_count": null,
   "id": "afaf3734-8e23-448b-a192-20b1fe5dd55c",
   "metadata": {},
   "outputs": [],
   "source": []
  }
 ],
 "metadata": {
  "kernelspec": {
   "display_name": "machine learning",
   "language": "python",
   "name": "ml"
  },
  "language_info": {
   "codemirror_mode": {
    "name": "ipython",
    "version": 3
   },
   "file_extension": ".py",
   "mimetype": "text/x-python",
   "name": "python",
   "nbconvert_exporter": "python",
   "pygments_lexer": "ipython3",
   "version": "3.12.4"
  }
 },
 "nbformat": 4,
 "nbformat_minor": 5
}
