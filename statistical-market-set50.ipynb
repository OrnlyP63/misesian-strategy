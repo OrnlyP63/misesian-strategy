{
 "cells": [
  {
   "cell_type": "markdown",
   "id": "2d75506a-d72e-47f1-ada6-96e94d766b04",
   "metadata": {},
   "source": [
    "[Nonfinancial Corporate Business; Corporate Equities as a Percentage of Net Worth, Level](https://fred.stlouisfed.org/series/BOGZ1FL103164106A)\n",
    "\n",
    "[additional](https://www.farooq-javed.com/farooqjaved/2023/7/28/tail-hedging)\n",
    "\n",
    "[set](https://www.set.or.th/th/market/statistics/market-statistics/main)"
   ]
  },
  {
   "cell_type": "code",
   "execution_count": 1,
   "id": "72457a26-18c4-467d-9158-be5eb2c58170",
   "metadata": {},
   "outputs": [],
   "source": [
    "import pandas as pd\n",
    "import numpy as np\n",
    "from datetime import datetime"
   ]
  },
  {
   "cell_type": "code",
   "execution_count": 2,
   "id": "620706fb-9bd7-4e65-9bef-cefe782c80a7",
   "metadata": {},
   "outputs": [],
   "source": [
    "import matplotlib.pyplot as plt\n",
    "plt.style.use('seaborn-v0_8')\n",
    "\n",
    "# Set the font family to Tahoma\n",
    "plt.rcParams['font.family'] = 'Tahoma'"
   ]
  },
  {
   "cell_type": "code",
   "execution_count": 3,
   "id": "9ae4ffbf-e27c-41b7-a24e-e8c7282b924f",
   "metadata": {},
   "outputs": [],
   "source": [
    "# Dictionary to map Thai month abbreviations to month numbers\n",
    "thai_months = {\n",
    "    \"ม.ค.\": 1,\n",
    "    \"ก.พ.\": 2,\n",
    "    \"มี.ค.\": 3,\n",
    "    \"เม.ย.\": 4,\n",
    "    \"พ.ค.\": 5,\n",
    "    \"มิ.ย.\": 6,\n",
    "    \"ก.ค.\": 7,\n",
    "    \"ส.ค.\": 8,\n",
    "    \"ก.ย.\": 9,\n",
    "    \"ต.ค.\": 10,\n",
    "    \"พ.ย.\": 11,\n",
    "    \"ธ.ค.\": 12\n",
    "}\n",
    "\n",
    "def convert_thai_date(thai_date):\n",
    "    # Split the input string\n",
    "    thai_month_abbr, buddhist_year = thai_date.split(\"-\")\n",
    "    \n",
    "    # Convert the Thai month abbreviation to a month number\n",
    "    month = thai_months[thai_month_abbr.strip()]\n",
    "    \n",
    "    # Convert the Buddhist year to Gregorian year\n",
    "    year = int(buddhist_year.strip())\n",
    "    if year >= 88:\n",
    "        year += 1900\n",
    "    else:\n",
    "        year += 2000\n",
    "    # Use the first day of the month for the conversion\n",
    "    day = 1\n",
    "    \n",
    "    # Create a datetime object\n",
    "    date = datetime(year, month, day)\n",
    "    \n",
    "    # Return the formatted date in \"Y-M-d\" format\n",
    "    return date.strftime(\"%Y-%m-%d\")"
   ]
  },
  {
   "cell_type": "code",
   "execution_count": 4,
   "id": "16d79847-60e8-4199-aeca-88e3aeeecf0a",
   "metadata": {},
   "outputs": [],
   "source": [
    "df = pd.read_csv('./Table_PBV.csv', skiprows=3)"
   ]
  },
  {
   "cell_type": "code",
   "execution_count": 5,
   "id": "746e1bc1-7204-4d44-bb1e-b929031be500",
   "metadata": {},
   "outputs": [
    {
     "data": {
      "text/html": [
       "<div>\n",
       "<style scoped>\n",
       "    .dataframe tbody tr th:only-of-type {\n",
       "        vertical-align: middle;\n",
       "    }\n",
       "\n",
       "    .dataframe tbody tr th {\n",
       "        vertical-align: top;\n",
       "    }\n",
       "\n",
       "    .dataframe thead th {\n",
       "        text-align: right;\n",
       "    }\n",
       "</style>\n",
       "<table border=\"1\" class=\"dataframe\">\n",
       "  <thead>\n",
       "    <tr style=\"text-align: right;\">\n",
       "      <th></th>\n",
       "      <th>Month-Year</th>\n",
       "      <th>SET</th>\n",
       "      <th>SET50</th>\n",
       "      <th>SET50FF</th>\n",
       "      <th>SET100</th>\n",
       "      <th>SET100FF</th>\n",
       "      <th>sSET</th>\n",
       "      <th>SETCLMV</th>\n",
       "      <th>SETHD</th>\n",
       "      <th>SETESG</th>\n",
       "      <th>SETWB</th>\n",
       "      <th>mai</th>\n",
       "    </tr>\n",
       "  </thead>\n",
       "  <tbody>\n",
       "    <tr>\n",
       "      <th>0</th>\n",
       "      <td>ก.ค.-24</td>\n",
       "      <td>1.24</td>\n",
       "      <td>1.47</td>\n",
       "      <td>1.23</td>\n",
       "      <td>1.41</td>\n",
       "      <td>1.19</td>\n",
       "      <td>0.94</td>\n",
       "      <td>1.13</td>\n",
       "      <td>0.85</td>\n",
       "      <td>1.22</td>\n",
       "      <td>2.36</td>\n",
       "      <td>1.66</td>\n",
       "    </tr>\n",
       "    <tr>\n",
       "      <th>1</th>\n",
       "      <td>มิ.ย.-24</td>\n",
       "      <td>1.22</td>\n",
       "      <td>1.43</td>\n",
       "      <td>1.20</td>\n",
       "      <td>1.39</td>\n",
       "      <td>1.18</td>\n",
       "      <td>0.95</td>\n",
       "      <td>1.10</td>\n",
       "      <td>0.95</td>\n",
       "      <td>1.20</td>\n",
       "      <td>2.51</td>\n",
       "      <td>1.79</td>\n",
       "    </tr>\n",
       "    <tr>\n",
       "      <th>2</th>\n",
       "      <td>พ.ค.-24</td>\n",
       "      <td>1.26</td>\n",
       "      <td>1.46</td>\n",
       "      <td>1.24</td>\n",
       "      <td>1.43</td>\n",
       "      <td>1.22</td>\n",
       "      <td>1.00</td>\n",
       "      <td>1.14</td>\n",
       "      <td>0.98</td>\n",
       "      <td>1.26</td>\n",
       "      <td>2.61</td>\n",
       "      <td>1.90</td>\n",
       "    </tr>\n",
       "    <tr>\n",
       "      <th>3</th>\n",
       "      <td>เม.ย.-24</td>\n",
       "      <td>1.32</td>\n",
       "      <td>1.53</td>\n",
       "      <td>1.31</td>\n",
       "      <td>1.50</td>\n",
       "      <td>1.29</td>\n",
       "      <td>1.04</td>\n",
       "      <td>1.19</td>\n",
       "      <td>0.99</td>\n",
       "      <td>1.33</td>\n",
       "      <td>2.75</td>\n",
       "      <td>2.02</td>\n",
       "    </tr>\n",
       "    <tr>\n",
       "      <th>4</th>\n",
       "      <td>มี.ค.-24</td>\n",
       "      <td>1.33</td>\n",
       "      <td>1.56</td>\n",
       "      <td>1.32</td>\n",
       "      <td>1.52</td>\n",
       "      <td>1.30</td>\n",
       "      <td>1.05</td>\n",
       "      <td>1.18</td>\n",
       "      <td>1.00</td>\n",
       "      <td>1.35</td>\n",
       "      <td>2.73</td>\n",
       "      <td>2.11</td>\n",
       "    </tr>\n",
       "  </tbody>\n",
       "</table>\n",
       "</div>"
      ],
      "text/plain": [
       "  Month-Year   SET  SET50  SET50FF  SET100  SET100FF  sSET  SETCLMV  SETHD  \\\n",
       "0    ก.ค.-24  1.24   1.47     1.23    1.41      1.19  0.94     1.13   0.85   \n",
       "1   มิ.ย.-24  1.22   1.43     1.20    1.39      1.18  0.95     1.10   0.95   \n",
       "2    พ.ค.-24  1.26   1.46     1.24    1.43      1.22  1.00     1.14   0.98   \n",
       "3   เม.ย.-24  1.32   1.53     1.31    1.50      1.29  1.04     1.19   0.99   \n",
       "4   มี.ค.-24  1.33   1.56     1.32    1.52      1.30  1.05     1.18   1.00   \n",
       "\n",
       "   SETESG  SETWB   mai  \n",
       "0    1.22   2.36  1.66  \n",
       "1    1.20   2.51  1.79  \n",
       "2    1.26   2.61  1.90  \n",
       "3    1.33   2.75  2.02  \n",
       "4    1.35   2.73  2.11  "
      ]
     },
     "execution_count": 5,
     "metadata": {},
     "output_type": "execute_result"
    }
   ],
   "source": [
    "df.head()"
   ]
  },
  {
   "cell_type": "code",
   "execution_count": 6,
   "id": "7361f6d2-5b1c-4059-8946-ef1e7b5ac1e2",
   "metadata": {},
   "outputs": [],
   "source": [
    "df['SET50'] = pd.to_numeric(df['SET50'], errors='coerce')"
   ]
  },
  {
   "cell_type": "code",
   "execution_count": 7,
   "id": "b04c212a-c73b-49f7-af49-f9f37f5fb078",
   "metadata": {},
   "outputs": [],
   "source": [
    "selected_df = df[['Month-Year', 'SET50']].dropna(axis=0)[::-1].copy()"
   ]
  },
  {
   "cell_type": "code",
   "execution_count": 8,
   "id": "ab3817c4-e6e2-4ce3-97b3-78dad52d2fa0",
   "metadata": {},
   "outputs": [
    {
     "data": {
      "text/html": [
       "<div>\n",
       "<style scoped>\n",
       "    .dataframe tbody tr th:only-of-type {\n",
       "        vertical-align: middle;\n",
       "    }\n",
       "\n",
       "    .dataframe tbody tr th {\n",
       "        vertical-align: top;\n",
       "    }\n",
       "\n",
       "    .dataframe thead th {\n",
       "        text-align: right;\n",
       "    }\n",
       "</style>\n",
       "<table border=\"1\" class=\"dataframe\">\n",
       "  <thead>\n",
       "    <tr style=\"text-align: right;\">\n",
       "      <th></th>\n",
       "      <th>Month-Year</th>\n",
       "      <th>SET50</th>\n",
       "    </tr>\n",
       "  </thead>\n",
       "  <tbody>\n",
       "    <tr>\n",
       "      <th>337</th>\n",
       "      <td>มิ.ย.-96</td>\n",
       "      <td>2.93</td>\n",
       "    </tr>\n",
       "    <tr>\n",
       "      <th>336</th>\n",
       "      <td>ก.ค.-96</td>\n",
       "      <td>2.47</td>\n",
       "    </tr>\n",
       "    <tr>\n",
       "      <th>335</th>\n",
       "      <td>ส.ค.-96</td>\n",
       "      <td>2.54</td>\n",
       "    </tr>\n",
       "    <tr>\n",
       "      <th>334</th>\n",
       "      <td>ก.ย.-96</td>\n",
       "      <td>2.55</td>\n",
       "    </tr>\n",
       "    <tr>\n",
       "      <th>333</th>\n",
       "      <td>ต.ค.-96</td>\n",
       "      <td>2.07</td>\n",
       "    </tr>\n",
       "  </tbody>\n",
       "</table>\n",
       "</div>"
      ],
      "text/plain": [
       "    Month-Year  SET50\n",
       "337   มิ.ย.-96   2.93\n",
       "336    ก.ค.-96   2.47\n",
       "335    ส.ค.-96   2.54\n",
       "334    ก.ย.-96   2.55\n",
       "333    ต.ค.-96   2.07"
      ]
     },
     "execution_count": 8,
     "metadata": {},
     "output_type": "execute_result"
    }
   ],
   "source": [
    "selected_df.head()"
   ]
  },
  {
   "cell_type": "code",
   "execution_count": 9,
   "id": "2b63674e-56ef-44ad-a5b4-fe0148504e42",
   "metadata": {},
   "outputs": [],
   "source": [
    "selected_df['Month-Year'] = selected_df['Month-Year'].apply(convert_thai_date)\n",
    "selected_df['Month-Year'] = pd.to_datetime(selected_df['Month-Year'])"
   ]
  },
  {
   "cell_type": "code",
   "execution_count": 10,
   "id": "c3f7a645-eb0d-496b-8353-f26caf6e786a",
   "metadata": {},
   "outputs": [],
   "source": [
    "selected_df.set_index('Month-Year', inplace=True)"
   ]
  },
  {
   "cell_type": "code",
   "execution_count": 11,
   "id": "8d7a27d3-26ac-44b1-aa53-34c52e6be03e",
   "metadata": {},
   "outputs": [],
   "source": [
    "selected_df['log-SET'] = np.log(selected_df['SET50'])"
   ]
  },
  {
   "cell_type": "code",
   "execution_count": 12,
   "id": "22aa4646-1784-4550-9cbe-260a4dfeca67",
   "metadata": {},
   "outputs": [],
   "source": [
    "# selected_df['SET'][::-1].cumprod()** (1 / np.arange(1, len(selected_df)+1))\n",
    "selected_df['gmean-SET'] = np.exp(selected_df['log-SET'].cumsum() / np.arange(1, len(selected_df)+1))"
   ]
  },
  {
   "cell_type": "code",
   "execution_count": 13,
   "id": "fe29c52e-cade-4ad6-be04-b6f259870ee2",
   "metadata": {},
   "outputs": [],
   "source": [
    "selected_df['scaled-SET'] = selected_df['SET50'] / selected_df['gmean-SET'].shift()"
   ]
  },
  {
   "cell_type": "code",
   "execution_count": 14,
   "id": "cb06fa59-0541-411d-9958-db5bb92a4af6",
   "metadata": {},
   "outputs": [],
   "source": [
    "n = 4\n",
    "selected_df['quarter'], bins = pd.qcut(selected_df['scaled-SET'], q=n, labels=False, retbins=True)"
   ]
  },
  {
   "cell_type": "code",
   "execution_count": 15,
   "id": "30dba671-3f53-4c0f-8899-08e361f4430d",
   "metadata": {},
   "outputs": [
    {
     "data": {
      "image/png": "[encoded data removed]",
      "text/plain": [
       "<Figure size 800x550 with 1 Axes>"
      ]
     },
     "metadata": {},
     "output_type": "display_data"
    }
   ],
   "source": [
    "selected_df['scaled-SET'].plot();\n",
    "for b in bins:\n",
    "    plt.axhline(y = b, color = 'k', linestyle = '--') "
   ]
  },
  {
   "cell_type": "code",
   "execution_count": 16,
   "id": "1b528b4f-7136-48ff-9aac-fd0e4e2b07e2",
   "metadata": {},
   "outputs": [
    {
     "data": {
      "text/html": [
       "<div>\n",
       "<style scoped>\n",
       "    .dataframe tbody tr th:only-of-type {\n",
       "        vertical-align: middle;\n",
       "    }\n",
       "\n",
       "    .dataframe tbody tr th {\n",
       "        vertical-align: top;\n",
       "    }\n",
       "\n",
       "    .dataframe thead th {\n",
       "        text-align: right;\n",
       "    }\n",
       "</style>\n",
       "<table border=\"1\" class=\"dataframe\">\n",
       "  <thead>\n",
       "    <tr style=\"text-align: right;\">\n",
       "      <th></th>\n",
       "      <th>SET50</th>\n",
       "      <th>log-SET</th>\n",
       "      <th>gmean-SET</th>\n",
       "      <th>scaled-SET</th>\n",
       "      <th>quarter</th>\n",
       "    </tr>\n",
       "    <tr>\n",
       "      <th>Month-Year</th>\n",
       "      <th></th>\n",
       "      <th></th>\n",
       "      <th></th>\n",
       "      <th></th>\n",
       "      <th></th>\n",
       "    </tr>\n",
       "  </thead>\n",
       "  <tbody>\n",
       "    <tr>\n",
       "      <th>1996-06-01</th>\n",
       "      <td>2.93</td>\n",
       "      <td>1.075002</td>\n",
       "      <td>2.930000</td>\n",
       "      <td>NaN</td>\n",
       "      <td>NaN</td>\n",
       "    </tr>\n",
       "    <tr>\n",
       "      <th>1996-07-01</th>\n",
       "      <td>2.47</td>\n",
       "      <td>0.904218</td>\n",
       "      <td>2.690186</td>\n",
       "      <td>0.843003</td>\n",
       "      <td>0.0</td>\n",
       "    </tr>\n",
       "    <tr>\n",
       "      <th>1996-08-01</th>\n",
       "      <td>2.54</td>\n",
       "      <td>0.932164</td>\n",
       "      <td>2.639162</td>\n",
       "      <td>0.944173</td>\n",
       "      <td>0.0</td>\n",
       "    </tr>\n",
       "    <tr>\n",
       "      <th>1996-09-01</th>\n",
       "      <td>2.55</td>\n",
       "      <td>0.936093</td>\n",
       "      <td>2.616584</td>\n",
       "      <td>0.966216</td>\n",
       "      <td>1.0</td>\n",
       "    </tr>\n",
       "    <tr>\n",
       "      <th>1996-10-01</th>\n",
       "      <td>2.07</td>\n",
       "      <td>0.727549</td>\n",
       "      <td>2.496789</td>\n",
       "      <td>0.791108</td>\n",
       "      <td>0.0</td>\n",
       "    </tr>\n",
       "    <tr>\n",
       "      <th>...</th>\n",
       "      <td>...</td>\n",
       "      <td>...</td>\n",
       "      <td>...</td>\n",
       "      <td>...</td>\n",
       "      <td>...</td>\n",
       "    </tr>\n",
       "    <tr>\n",
       "      <th>2024-03-01</th>\n",
       "      <td>1.56</td>\n",
       "      <td>0.444686</td>\n",
       "      <td>1.881921</td>\n",
       "      <td>0.828474</td>\n",
       "      <td>0.0</td>\n",
       "    </tr>\n",
       "    <tr>\n",
       "      <th>2024-04-01</th>\n",
       "      <td>1.53</td>\n",
       "      <td>0.425268</td>\n",
       "      <td>1.880758</td>\n",
       "      <td>0.812999</td>\n",
       "      <td>0.0</td>\n",
       "    </tr>\n",
       "    <tr>\n",
       "      <th>2024-05-01</th>\n",
       "      <td>1.46</td>\n",
       "      <td>0.378436</td>\n",
       "      <td>1.879341</td>\n",
       "      <td>0.776283</td>\n",
       "      <td>0.0</td>\n",
       "    </tr>\n",
       "    <tr>\n",
       "      <th>2024-06-01</th>\n",
       "      <td>1.43</td>\n",
       "      <td>0.357674</td>\n",
       "      <td>1.877818</td>\n",
       "      <td>0.760905</td>\n",
       "      <td>0.0</td>\n",
       "    </tr>\n",
       "    <tr>\n",
       "      <th>2024-07-01</th>\n",
       "      <td>1.47</td>\n",
       "      <td>0.385262</td>\n",
       "      <td>1.876458</td>\n",
       "      <td>0.782824</td>\n",
       "      <td>0.0</td>\n",
       "    </tr>\n",
       "  </tbody>\n",
       "</table>\n",
       "<p>338 rows × 5 columns</p>\n",
       "</div>"
      ],
      "text/plain": [
       "            SET50   log-SET  gmean-SET  scaled-SET  quarter\n",
       "Month-Year                                                 \n",
       "1996-06-01   2.93  1.075002   2.930000         NaN      NaN\n",
       "1996-07-01   2.47  0.904218   2.690186    0.843003      0.0\n",
       "1996-08-01   2.54  0.932164   2.639162    0.944173      0.0\n",
       "1996-09-01   2.55  0.936093   2.616584    0.966216      1.0\n",
       "1996-10-01   2.07  0.727549   2.496789    0.791108      0.0\n",
       "...           ...       ...        ...         ...      ...\n",
       "2024-03-01   1.56  0.444686   1.881921    0.828474      0.0\n",
       "2024-04-01   1.53  0.425268   1.880758    0.812999      0.0\n",
       "2024-05-01   1.46  0.378436   1.879341    0.776283      0.0\n",
       "2024-06-01   1.43  0.357674   1.877818    0.760905      0.0\n",
       "2024-07-01   1.47  0.385262   1.876458    0.782824      0.0\n",
       "\n",
       "[338 rows x 5 columns]"
      ]
     },
     "execution_count": 16,
     "metadata": {},
     "output_type": "execute_result"
    }
   ],
   "source": [
    "selected_df"
   ]
  },
  {
   "cell_type": "code",
   "execution_count": 17,
   "id": "3b0d19c2-ee78-429f-abb0-46f6c41e2956",
   "metadata": {},
   "outputs": [],
   "source": [
    "set_index = pd.read_csv('./Table_Index.csv', skiprows=3)\n",
    "set_index['SET501/'] = set_index['SET501/'].str.replace(',', '')\n",
    "\n",
    "set_index['SET501/'] = pd.to_numeric(set_index['SET501/'], errors='coerce')\n",
    "set_index = set_index[['Month-Year', 'SET501/']].dropna(axis=0)[::-2].copy()\n",
    "\n",
    "set_index['Month-Year'] = set_index['Month-Year'].apply(convert_thai_date)\n",
    "set_index['Month-Year'] = pd.to_datetime(set_index['Month-Year'])"
   ]
  },
  {
   "cell_type": "code",
   "execution_count": 18,
   "id": "22403eeb-8381-49a0-bdfa-c8483f8fdc2f",
   "metadata": {},
   "outputs": [],
   "source": [
    "set_index.set_index('Month-Year', inplace=True)"
   ]
  },
  {
   "cell_type": "code",
   "execution_count": 19,
   "id": "576f904e-f7be-4ff5-8074-7a961417dc62",
   "metadata": {},
   "outputs": [],
   "source": [
    "selected_df['set-index'] = set_index"
   ]
  },
  {
   "cell_type": "code",
   "execution_count": 20,
   "id": "ae749002-6c15-47c8-aa35-1ef90e18205b",
   "metadata": {},
   "outputs": [],
   "source": [
    "selected_df['ret'] = selected_df['set-index'].pct_change()"
   ]
  },
  {
   "cell_type": "code",
   "execution_count": 21,
   "id": "7cf83413-9475-445d-9e49-241114c17a3f",
   "metadata": {},
   "outputs": [],
   "source": [
    "selected_df.to_csv('set50.csv')"
   ]
  },
  {
   "cell_type": "code",
   "execution_count": 22,
   "id": "d489bfa8-cdb9-4fe4-b9e2-fd7177d42c10",
   "metadata": {},
   "outputs": [],
   "source": [
    "selected_df['quarter-shift'] = selected_df['quarter'].shift(1)"
   ]
  },
  {
   "cell_type": "code",
   "execution_count": 23,
   "id": "64ac4579-510b-45fe-9d3e-9f37dcc34619",
   "metadata": {},
   "outputs": [],
   "source": [
    "state_switching = []\n",
    "for (present, past) in zip(selected_df['quarter'], selected_df['quarter-shift']):\n",
    "    if np.isnan(present) or np.isnan(past):\n",
    "        state_switching.append(np.nan)\n",
    "    else:\n",
    "        state_switching.append(f'{int(past)}=>{int(present)}')"
   ]
  },
  {
   "cell_type": "code",
   "execution_count": 24,
   "id": "cf302eb4-f9c6-4f17-b011-4bd1e81b1622",
   "metadata": {},
   "outputs": [],
   "source": [
    "selected_df['regime-switching'] = state_switching"
   ]
  },
  {
   "cell_type": "code",
   "execution_count": 25,
   "id": "b8e0b759-11c1-47e1-80f0-a4358cf40f37",
   "metadata": {
    "scrolled": true
   },
   "outputs": [
    {
     "data": {
      "text/plain": [
       "regime-switching\n",
       "0=>0    69\n",
       "3=>3    66\n",
       "1=>1    54\n",
       "2=>2    50\n",
       "2=>3    18\n",
       "3=>2    17\n",
       "1=>2    16\n",
       "2=>1    15\n",
       "0=>1    14\n",
       "1=>0    14\n",
       "3=>1     1\n",
       "0=>2     1\n",
       "2=>0     1\n",
       "Name: count, dtype: int64"
      ]
     },
     "execution_count": 25,
     "metadata": {},
     "output_type": "execute_result"
    }
   ],
   "source": [
    "selected_df['regime-switching'].value_counts()"
   ]
  },
  {
   "cell_type": "code",
   "execution_count": 26,
   "id": "f8395bcd-d5a2-402c-8f23-bfe2f0b1fee3",
   "metadata": {},
   "outputs": [
    {
     "data": {
      "text/html": [
       "<div>\n",
       "<style scoped>\n",
       "    .dataframe tbody tr th:only-of-type {\n",
       "        vertical-align: middle;\n",
       "    }\n",
       "\n",
       "    .dataframe tbody tr th {\n",
       "        vertical-align: top;\n",
       "    }\n",
       "\n",
       "    .dataframe thead th {\n",
       "        text-align: right;\n",
       "    }\n",
       "</style>\n",
       "<table border=\"1\" class=\"dataframe\">\n",
       "  <thead>\n",
       "    <tr style=\"text-align: right;\">\n",
       "      <th></th>\n",
       "      <th>SET50</th>\n",
       "      <th>log-SET</th>\n",
       "      <th>gmean-SET</th>\n",
       "      <th>scaled-SET</th>\n",
       "      <th>quarter</th>\n",
       "      <th>set-index</th>\n",
       "      <th>ret</th>\n",
       "      <th>quarter-shift</th>\n",
       "      <th>regime-switching</th>\n",
       "    </tr>\n",
       "    <tr>\n",
       "      <th>Month-Year</th>\n",
       "      <th></th>\n",
       "      <th></th>\n",
       "      <th></th>\n",
       "      <th></th>\n",
       "      <th></th>\n",
       "      <th></th>\n",
       "      <th></th>\n",
       "      <th></th>\n",
       "      <th></th>\n",
       "    </tr>\n",
       "  </thead>\n",
       "  <tbody>\n",
       "  </tbody>\n",
       "</table>\n",
       "</div>"
      ],
      "text/plain": [
       "Empty DataFrame\n",
       "Columns: [SET50, log-SET, gmean-SET, scaled-SET, quarter, set-index, ret, quarter-shift, regime-switching]\n",
       "Index: []"
      ]
     },
     "execution_count": 26,
     "metadata": {},
     "output_type": "execute_result"
    }
   ],
   "source": [
    "selected_df[selected_df['regime-switching'] == '1=>3']"
   ]
  },
  {
   "cell_type": "code",
   "execution_count": 27,
   "id": "d99ecfc0-7bdb-4564-868e-c528d53891bd",
   "metadata": {},
   "outputs": [
    {
     "name": "stdout",
     "output_type": "stream",
     "text": [
      "\n",
      "    Class:0=>0\n",
      "    growth rate (median): 1.00\n",
      "    mean: 1.02\n",
      "    std: 0.29\n",
      "    5th: 0.61\n",
      "    95th: 1.59\n",
      "\n",
      "    Class:0=>1\n",
      "    growth rate (median): 1.00\n",
      "    mean: 1.03\n",
      "    std: 0.21\n",
      "    5th: 0.75\n",
      "    95th: 1.45\n",
      "\n",
      "    Class:1=>0\n",
      "    growth rate (median): 1.00\n",
      "    mean: 1.00\n",
      "    std: 0.21\n",
      "    5th: 0.68\n",
      "    95th: 1.35\n",
      "\n",
      "    Class:1=>1\n",
      "    growth rate (median): 1.03\n",
      "    mean: 1.05\n",
      "    std: 0.12\n",
      "    5th: 0.88\n",
      "    95th: 1.27\n",
      "\n",
      "    Class:1=>2\n",
      "    growth rate (median): 1.03\n",
      "    mean: 1.07\n",
      "    std: 0.17\n",
      "    5th: 0.83\n",
      "    95th: 1.39\n",
      "\n",
      "    Class:2=>3\n",
      "    growth rate (median): 1.00\n",
      "    mean: 1.01\n",
      "    std: 0.16\n",
      "    5th: 0.78\n",
      "    95th: 1.30\n",
      "\n",
      "    Class:3=>3\n",
      "    growth rate (median): 1.00\n",
      "    mean: 1.01\n",
      "    std: 0.13\n",
      "    5th: 0.81\n",
      "    95th: 1.23\n",
      "\n",
      "    Class:3=>2\n",
      "    growth rate (median): 1.00\n",
      "    mean: 0.98\n",
      "    std: 0.13\n",
      "    5th: 0.75\n",
      "    95th: 1.16\n",
      "\n",
      "    Class:2=>2\n",
      "    growth rate (median): 1.00\n",
      "    mean: 1.01\n",
      "    std: 0.13\n",
      "    5th: 0.80\n",
      "    95th: 1.23\n",
      "\n",
      "    Class:3=>1\n",
      "    growth rate (median): 0.83\n",
      "    mean: 0.83\n",
      "    std: 0.14\n",
      "    5th: 0.60\n",
      "    95th: 1.03\n",
      "\n",
      "    Class:2=>1\n",
      "    growth rate (median): 1.00\n",
      "    mean: 1.02\n",
      "    std: 0.15\n",
      "    5th: 0.79\n",
      "    95th: 1.29\n",
      "\n",
      "    Class:0=>2\n",
      "    growth rate (median): 1.03\n",
      "    mean: 1.04\n",
      "    std: 0.21\n",
      "    5th: 0.71\n",
      "    95th: 1.41\n",
      "\n",
      "    Class:2=>0\n",
      "    growth rate (median): 1.01\n",
      "    mean: 1.03\n",
      "    std: 0.21\n",
      "    5th: 0.74\n",
      "    95th: 1.39\n"
     ]
    }
   ],
   "source": [
    "m = 100000\n",
    "d = 4\n",
    "\n",
    "for i in selected_df['regime-switching'].dropna().unique():\n",
    "\n",
    "    mask_index = selected_df[selected_df['regime-switching'] == i].index\n",
    "    rets = []\n",
    "    for mi in mask_index:\n",
    "        rets += selected_df.loc[mi: mi + pd.DateOffset(months=11)]['ret'].tolist()\n",
    "    \n",
    "    bootstrapping_sample = np.random.choice(rets, size=(m, d), replace=True) + 1\n",
    "        \n",
    "    ret_rest = np.prod(bootstrapping_sample, axis=1)\n",
    "    \n",
    "    # plt.hist(ret_rest, bins=100)\n",
    "    # plt.title(f'Class:{i}\\nGrowth: {np.median(ret_rest):.2f}\\n5th: {np.quantile(ret_rest, 0.05):.2f}\\n95th: {np.quantile(ret_rest, 0.95):.2f}')\n",
    "    # plt.show()\n",
    "    \n",
    "    print(f'''\n",
    "    Class:{i}\n",
    "    growth rate (median): {np.median(ret_rest):.2f}\n",
    "    mean: {np.mean(ret_rest):.2f}\n",
    "    std: {np.std(ret_rest):.2f}\n",
    "    5th: {np.quantile(ret_rest, 0.05):.2f}\n",
    "    95th: {np.quantile(ret_rest, 0.95):.2f}''')\n",
    "    "
   ]
  },
  {
   "cell_type": "code",
   "execution_count": null,
   "id": "e2f8e791-62be-4c4c-9669-37d6ac60c6c7",
   "metadata": {},
   "outputs": [],
   "source": []
  }
 ],
 "metadata": {
  "kernelspec": {
   "display_name": "machine learning",
   "language": "python",
   "name": "ml"
  },
  "language_info": {
   "codemirror_mode": {
    "name": "ipython",
    "version": 3
   },
   "file_extension": ".py",
   "mimetype": "text/x-python",
   "name": "python",
   "nbconvert_exporter": "python",
   "pygments_lexer": "ipython3",
   "version": "3.12.4"
  }
 },
 "nbformat": 4,
 "nbformat_minor": 5
}
