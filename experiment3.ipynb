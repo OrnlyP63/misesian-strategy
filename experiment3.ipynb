{
 "cells": [
  {
   "cell_type": "code",
   "execution_count": 1,
   "id": "9aec3c4f-f2dc-474f-ab2d-1d300e2ad212",
   "metadata": {},
   "outputs": [],
   "source": [
    "import pandas as pd\n",
    "import numpy as np\n",
    "from datetime import datetime"
   ]
  },
  {
   "cell_type": "code",
   "execution_count": 2,
   "id": "e47aba12-b7b3-4b00-bb04-fea1254159fe",
   "metadata": {},
   "outputs": [],
   "source": [
    "import matplotlib.pyplot as plt\n",
    "plt.style.use('seaborn-v0_8')\n",
    "\n",
    "# Set the font family to Tahoma\n",
    "plt.rcParams['font.family'] = 'Tahoma'"
   ]
  },
  {
   "cell_type": "code",
   "execution_count": 3,
   "id": "53ed64e0-f49b-4802-a395-7201198dbecb",
   "metadata": {},
   "outputs": [],
   "source": [
    "# Dictionary to map Thai month abbreviations to month numbers\n",
    "thai_months = {\n",
    "    \"ม.ค.\": 1,\n",
    "    \"ก.พ.\": 2,\n",
    "    \"มี.ค.\": 3,\n",
    "    \"เม.ย.\": 4,\n",
    "    \"พ.ค.\": 5,\n",
    "    \"มิ.ย.\": 6,\n",
    "    \"ก.ค.\": 7,\n",
    "    \"ส.ค.\": 8,\n",
    "    \"ก.ย.\": 9,\n",
    "    \"ต.ค.\": 10,\n",
    "    \"พ.ย.\": 11,\n",
    "    \"ธ.ค.\": 12\n",
    "}\n",
    "\n",
    "def convert_thai_date(thai_date):\n",
    "    # Split the input string\n",
    "    thai_month_abbr, buddhist_year = thai_date.split(\"-\")\n",
    "    \n",
    "    # Convert the Thai month abbreviation to a month number\n",
    "    month = thai_months[thai_month_abbr.strip()]\n",
    "    \n",
    "    # Convert the Buddhist year to Gregorian year\n",
    "    year = int(buddhist_year.strip())\n",
    "    if year >= 75:\n",
    "        year += 1900\n",
    "    else:\n",
    "        year += 2000\n",
    "    # Use the first day of the month for the conversion\n",
    "    day = 1\n",
    "    \n",
    "    # Create a datetime object\n",
    "    date = datetime(year, month, day)\n",
    "    \n",
    "    # Return the formatted date in \"Y-M-d\" format\n",
    "    return date.strftime(\"%Y-%m-%d\")"
   ]
  },
  {
   "cell_type": "code",
   "execution_count": 4,
   "id": "1a7c4d83-e679-4dbb-9b66-f5705d0b00e5",
   "metadata": {},
   "outputs": [],
   "source": [
    "df = pd.read_csv('./Table_PBV.csv', skiprows=3)\n",
    "df['SET'] = df['SET'].str.replace(',', '')\n",
    "\n",
    "set_index = pd.read_csv('./Table_Index.csv', skiprows=3)\n",
    "set_index['SET'] = set_index['SET'].str.replace(',', '')"
   ]
  },
  {
   "cell_type": "code",
   "execution_count": 5,
   "id": "e6626482-7706-4007-a548-cb7d7643741b",
   "metadata": {},
   "outputs": [],
   "source": [
    "# set_index['Month-Year'].head(50)"
   ]
  },
  {
   "cell_type": "code",
   "execution_count": 6,
   "id": "23b6716b-3484-4844-8223-ea0b1090274b",
   "metadata": {},
   "outputs": [],
   "source": [
    "df['SET'] = pd.to_numeric(df['SET'], errors='coerce')\n",
    "set_index['SET'] = pd.to_numeric(set_index['SET'], errors='coerce')"
   ]
  },
  {
   "cell_type": "code",
   "execution_count": 7,
   "id": "5b32bb0a-d49f-4cca-950a-74ea501ce735",
   "metadata": {},
   "outputs": [],
   "source": [
    "selected_df = df[['Month-Year', 'SET']].dropna(axis=0)[::-1].copy()\n",
    "set_index = set_index[['Month-Year', 'SET']].dropna(axis=0)[::-1].copy()"
   ]
  },
  {
   "cell_type": "code",
   "execution_count": 8,
   "id": "9a1b8a7f-ac69-4ccb-a0e2-70a923da6d53",
   "metadata": {},
   "outputs": [],
   "source": [
    "selected_df['Month-Year'] = selected_df['Month-Year'].apply(convert_thai_date)\n",
    "selected_df['Month-Year'] = pd.to_datetime(selected_df['Month-Year'])\n",
    "\n",
    "set_index['Month-Year'] = set_index['Month-Year'].apply(convert_thai_date)\n",
    "set_index['Month-Year'] = pd.to_datetime(set_index['Month-Year'])"
   ]
  },
  {
   "cell_type": "code",
   "execution_count": 9,
   "id": "4708ad2d-7662-4946-9dd1-ffa145908621",
   "metadata": {},
   "outputs": [],
   "source": [
    "selected_df.set_index('Month-Year', inplace=True)\n",
    "set_index.set_index('Month-Year', inplace=True)"
   ]
  },
  {
   "cell_type": "code",
   "execution_count": 10,
   "id": "7e50bb9d-cb70-44af-9e84-2db32bd5dab2",
   "metadata": {},
   "outputs": [],
   "source": [
    "selected_df['set-index'] = set_index"
   ]
  },
  {
   "cell_type": "code",
   "execution_count": 11,
   "id": "88cdf857-8090-49b2-97e5-f5e4a3d60b7b",
   "metadata": {},
   "outputs": [
    {
     "data": {
      "text/html": [
       "<div>\n",
       "<style scoped>\n",
       "    .dataframe tbody tr th:only-of-type {\n",
       "        vertical-align: middle;\n",
       "    }\n",
       "\n",
       "    .dataframe tbody tr th {\n",
       "        vertical-align: top;\n",
       "    }\n",
       "\n",
       "    .dataframe thead th {\n",
       "        text-align: right;\n",
       "    }\n",
       "</style>\n",
       "<table border=\"1\" class=\"dataframe\">\n",
       "  <thead>\n",
       "    <tr style=\"text-align: right;\">\n",
       "      <th></th>\n",
       "      <th>SET</th>\n",
       "      <th>set-index</th>\n",
       "    </tr>\n",
       "    <tr>\n",
       "      <th>Month-Year</th>\n",
       "      <th></th>\n",
       "      <th></th>\n",
       "    </tr>\n",
       "  </thead>\n",
       "  <tbody>\n",
       "    <tr>\n",
       "      <th>1988-04-01</th>\n",
       "      <td>3.07</td>\n",
       "      <td>413.91</td>\n",
       "    </tr>\n",
       "    <tr>\n",
       "      <th>1988-05-01</th>\n",
       "      <td>3.16</td>\n",
       "      <td>424.93</td>\n",
       "    </tr>\n",
       "    <tr>\n",
       "      <th>1988-06-01</th>\n",
       "      <td>3.52</td>\n",
       "      <td>452.70</td>\n",
       "    </tr>\n",
       "    <tr>\n",
       "      <th>1988-07-01</th>\n",
       "      <td>3.51</td>\n",
       "      <td>457.01</td>\n",
       "    </tr>\n",
       "    <tr>\n",
       "      <th>1988-08-01</th>\n",
       "      <td>3.33</td>\n",
       "      <td>436.55</td>\n",
       "    </tr>\n",
       "    <tr>\n",
       "      <th>...</th>\n",
       "      <td>...</td>\n",
       "      <td>...</td>\n",
       "    </tr>\n",
       "    <tr>\n",
       "      <th>2024-02-01</th>\n",
       "      <td>1.33</td>\n",
       "      <td>1370.67</td>\n",
       "    </tr>\n",
       "    <tr>\n",
       "      <th>2024-03-01</th>\n",
       "      <td>1.33</td>\n",
       "      <td>1377.94</td>\n",
       "    </tr>\n",
       "    <tr>\n",
       "      <th>2024-04-01</th>\n",
       "      <td>1.32</td>\n",
       "      <td>1367.95</td>\n",
       "    </tr>\n",
       "    <tr>\n",
       "      <th>2024-05-01</th>\n",
       "      <td>1.26</td>\n",
       "      <td>1345.66</td>\n",
       "    </tr>\n",
       "    <tr>\n",
       "      <th>2024-06-01</th>\n",
       "      <td>1.22</td>\n",
       "      <td>1300.96</td>\n",
       "    </tr>\n",
       "  </tbody>\n",
       "</table>\n",
       "<p>435 rows × 2 columns</p>\n",
       "</div>"
      ],
      "text/plain": [
       "             SET  set-index\n",
       "Month-Year                 \n",
       "1988-04-01  3.07     413.91\n",
       "1988-05-01  3.16     424.93\n",
       "1988-06-01  3.52     452.70\n",
       "1988-07-01  3.51     457.01\n",
       "1988-08-01  3.33     436.55\n",
       "...          ...        ...\n",
       "2024-02-01  1.33    1370.67\n",
       "2024-03-01  1.33    1377.94\n",
       "2024-04-01  1.32    1367.95\n",
       "2024-05-01  1.26    1345.66\n",
       "2024-06-01  1.22    1300.96\n",
       "\n",
       "[435 rows x 2 columns]"
      ]
     },
     "execution_count": 11,
     "metadata": {},
     "output_type": "execute_result"
    }
   ],
   "source": [
    "selected_df"
   ]
  },
  {
   "cell_type": "code",
   "execution_count": 12,
   "id": "4fff2873-8294-4a3b-83f8-eafb7170822a",
   "metadata": {},
   "outputs": [],
   "source": [
    "selected_df['log-SET'] = np.log(selected_df['SET'])"
   ]
  },
  {
   "cell_type": "code",
   "execution_count": 13,
   "id": "ac36fa6f-c047-4392-adf9-40d29b6420b9",
   "metadata": {},
   "outputs": [],
   "source": [
    "# selected_df['SET'][::-1].cumprod()** (1 / np.arange(1, len(selected_df)+1))\n",
    "selected_df['gmean-SET'] = np.exp(selected_df['log-SET'].cumsum() / np.arange(1, len(selected_df)+1))"
   ]
  },
  {
   "cell_type": "code",
   "execution_count": 14,
   "id": "680fbace-4477-4ef5-b2a3-c6d44835f604",
   "metadata": {},
   "outputs": [],
   "source": [
    "selected_df['scaled-SET'] = selected_df['SET'] / selected_df['gmean-SET'].shift()"
   ]
  },
  {
   "cell_type": "code",
   "execution_count": 15,
   "id": "7fc5bf8f-6b4b-46bf-bded-49229d3196c7",
   "metadata": {},
   "outputs": [
    {
     "data": {
      "image/png": "[encoded data removed]",
      "text/plain": [
       "<Figure size 800x550 with 1 Axes>"
      ]
     },
     "metadata": {},
     "output_type": "display_data"
    }
   ],
   "source": [
    "selected_df['scaled-SET'].plot();"
   ]
  },
  {
   "cell_type": "code",
   "execution_count": 16,
   "id": "afa015a6-4375-4838-9666-8331c51db50d",
   "metadata": {},
   "outputs": [],
   "source": [
    "n = 4\n",
    "selected_df['quarter'], bins = pd.qcut(selected_df['scaled-SET'], q=n, labels=False, retbins=True)"
   ]
  },
  {
   "cell_type": "code",
   "execution_count": 17,
   "id": "cd8428be-8db4-4b75-af19-f1d3d8011225",
   "metadata": {
    "scrolled": true
   },
   "outputs": [
    {
     "data": {
      "text/plain": [
       "array([0.20427023, 0.68825346, 0.85390345, 0.96067702, 1.76269296])"
      ]
     },
     "execution_count": 17,
     "metadata": {},
     "output_type": "execute_result"
    }
   ],
   "source": [
    "bins"
   ]
  },
  {
   "cell_type": "code",
   "execution_count": 18,
   "id": "26d9654d-b246-498c-8795-040b16fb7d8d",
   "metadata": {},
   "outputs": [],
   "source": [
    "selected_df['ret'] = selected_df['set-index'].pct_change()"
   ]
  },
  {
   "cell_type": "code",
   "execution_count": 22,
   "id": "e458b96f-acc1-43c3-8a3c-99a01bcc9c2f",
   "metadata": {},
   "outputs": [],
   "source": [
    "selected_df['quarter-shift'] = selected_df['quarter'].shift(1)"
   ]
  },
  {
   "cell_type": "code",
   "execution_count": 37,
   "id": "a3bf3915-5e9e-4210-a6d7-c314df3a9d99",
   "metadata": {},
   "outputs": [],
   "source": [
    "state_switching = []\n",
    "for (present, past) in zip(selected_df['quarter'], selected_df['quarter-shift']):\n",
    "    if np.isnan(present) or np.isnan(past):\n",
    "        state_switching.append(np.nan)\n",
    "    else:\n",
    "        state_switching.append(f'{int(past)}=>{int(present)}')"
   ]
  },
  {
   "cell_type": "code",
   "execution_count": 39,
   "id": "9ae46daf-6de0-4f62-972d-538d10b5be03",
   "metadata": {},
   "outputs": [],
   "source": [
    "selected_df['regime-switching'] = state_switching"
   ]
  },
  {
   "cell_type": "code",
   "execution_count": 43,
   "id": "e48ff838-0f1d-49c0-a78d-b67ed3725394",
   "metadata": {
    "scrolled": true
   },
   "outputs": [
    {
     "data": {
      "text/plain": [
       "regime-switching\n",
       "0=>0    100\n",
       "3=>3     91\n",
       "1=>1     84\n",
       "2=>2     77\n",
       "3=>2     17\n",
       "2=>3     16\n",
       "2=>1     15\n",
       "1=>2     14\n",
       "1=>0      9\n",
       "0=>1      8\n",
       "1=>3      1\n",
       "3=>1      1\n",
       "Name: count, dtype: int64"
      ]
     },
     "execution_count": 43,
     "metadata": {},
     "output_type": "execute_result"
    }
   ],
   "source": [
    "selected_df['regime-switching'].value_counts()"
   ]
  },
  {
   "cell_type": "code",
   "execution_count": 57,
   "id": "205103a3-6716-42d0-b6b7-5548e0469b87",
   "metadata": {},
   "outputs": [
    {
     "data": {
      "text/html": [
       "<div>\n",
       "<style scoped>\n",
       "    .dataframe tbody tr th:only-of-type {\n",
       "        vertical-align: middle;\n",
       "    }\n",
       "\n",
       "    .dataframe tbody tr th {\n",
       "        vertical-align: top;\n",
       "    }\n",
       "\n",
       "    .dataframe thead th {\n",
       "        text-align: right;\n",
       "    }\n",
       "</style>\n",
       "<table border=\"1\" class=\"dataframe\">\n",
       "  <thead>\n",
       "    <tr style=\"text-align: right;\">\n",
       "      <th></th>\n",
       "      <th>SET</th>\n",
       "      <th>set-index</th>\n",
       "      <th>log-SET</th>\n",
       "      <th>gmean-SET</th>\n",
       "      <th>scaled-SET</th>\n",
       "      <th>quarter</th>\n",
       "      <th>ret</th>\n",
       "      <th>quarter-shift</th>\n",
       "      <th>regime-switching</th>\n",
       "    </tr>\n",
       "    <tr>\n",
       "      <th>Month-Year</th>\n",
       "      <th></th>\n",
       "      <th></th>\n",
       "      <th></th>\n",
       "      <th></th>\n",
       "      <th></th>\n",
       "      <th></th>\n",
       "      <th></th>\n",
       "      <th></th>\n",
       "      <th></th>\n",
       "    </tr>\n",
       "  </thead>\n",
       "  <tbody>\n",
       "    <tr>\n",
       "      <th>1993-10-01</th>\n",
       "      <td>3.61</td>\n",
       "      <td>1260.91</td>\n",
       "      <td>1.283708</td>\n",
       "      <td>3.63425</td>\n",
       "      <td>0.993227</td>\n",
       "      <td>3.0</td>\n",
       "      <td>0.29798</td>\n",
       "      <td>1.0</td>\n",
       "      <td>1=&gt;3</td>\n",
       "    </tr>\n",
       "  </tbody>\n",
       "</table>\n",
       "</div>"
      ],
      "text/plain": [
       "             SET  set-index   log-SET  gmean-SET  scaled-SET  quarter  \\\n",
       "Month-Year                                                              \n",
       "1993-10-01  3.61    1260.91  1.283708    3.63425    0.993227      3.0   \n",
       "\n",
       "                ret  quarter-shift regime-switching  \n",
       "Month-Year                                           \n",
       "1993-10-01  0.29798            1.0             1=>3  "
      ]
     },
     "execution_count": 57,
     "metadata": {},
     "output_type": "execute_result"
    }
   ],
   "source": [
    "selected_df[selected_df['regime-switching'] == '1=>3']"
   ]
  },
  {
   "cell_type": "code",
   "execution_count": 60,
   "id": "13818679-b3aa-4f0b-ad56-c5ee36212917",
   "metadata": {},
   "outputs": [
    {
     "name": "stdout",
     "output_type": "stream",
     "text": [
      "\n",
      "    Class:3=>3\n",
      "    growth rate (median): 1.07\n",
      "    mean: 1.09\n",
      "    std: 0.27\n",
      "    5th: 0.69\n",
      "    95th: 1.56\n",
      "\n",
      "    Class:3=>2\n",
      "    growth rate (median): 0.96\n",
      "    mean: 0.97\n",
      "    std: 0.23\n",
      "    5th: 0.63\n",
      "    95th: 1.37\n",
      "\n",
      "    Class:2=>2\n",
      "    growth rate (median): 0.97\n",
      "    mean: 0.98\n",
      "    std: 0.18\n",
      "    5th: 0.68\n",
      "    95th: 1.29\n",
      "\n",
      "    Class:2=>3\n",
      "    growth rate (median): 1.10\n",
      "    mean: 1.12\n",
      "    std: 0.24\n",
      "    5th: 0.77\n",
      "    95th: 1.54\n",
      "\n",
      "    Class:2=>1\n",
      "    growth rate (median): 0.96\n",
      "    mean: 0.99\n",
      "    std: 0.23\n",
      "    5th: 0.65\n",
      "    95th: 1.41\n",
      "\n",
      "    Class:1=>1\n",
      "    growth rate (median): 1.08\n",
      "    mean: 1.11\n",
      "    std: 0.28\n",
      "    5th: 0.73\n",
      "    95th: 1.62\n",
      "\n",
      "    Class:1=>2\n",
      "    growth rate (median): 1.15\n",
      "    mean: 1.18\n",
      "    std: 0.22\n",
      "    5th: 0.86\n",
      "    95th: 1.56\n",
      "\n",
      "    Class:1=>0\n",
      "    growth rate (median): 1.02\n",
      "    mean: 1.05\n",
      "    std: 0.29\n",
      "    5th: 0.62\n",
      "    95th: 1.58\n",
      "\n",
      "    Class:0=>0\n",
      "    growth rate (median): 1.00\n",
      "    mean: 1.07\n",
      "    std: 0.43\n",
      "    5th: 0.52\n",
      "    95th: 1.88\n",
      "\n",
      "    Class:0=>1\n",
      "    growth rate (median): 1.41\n",
      "    mean: 1.44\n",
      "    std: 0.33\n",
      "    5th: 0.97\n",
      "    95th: 2.04\n",
      "\n",
      "    Class:1=>3\n",
      "    growth rate (median): 1.51\n",
      "    mean: 1.68\n",
      "    std: 0.76\n",
      "    5th: 0.78\n",
      "    95th: 3.12\n",
      "\n",
      "    Class:3=>1\n",
      "    growth rate (median): 1.17\n",
      "    mean: 1.17\n",
      "    std: 0.24\n",
      "    5th: 0.79\n",
      "    95th: 1.57\n"
     ]
    }
   ],
   "source": [
    "m = 100000\n",
    "d = 12\n",
    "\n",
    "for i in selected_df['regime-switching'].dropna().unique():\n",
    "\n",
    "    mask_index = selected_df[selected_df['regime-switching'] == i].index\n",
    "    rets = []\n",
    "    for mi in mask_index:\n",
    "        rets += selected_df.loc[mi: mi + pd.DateOffset(months=11)]['ret'].tolist()\n",
    "    \n",
    "    bootstrapping_sample = np.random.choice(rets, size=(m, d), replace=True) + 1\n",
    "        \n",
    "    ret_rest = np.prod(bootstrapping_sample, axis=1)\n",
    "    \n",
    "    # plt.hist(ret_rest, bins=100)\n",
    "    # plt.title(f'Class:{i}\\nGrowth: {np.median(ret_rest):.2f}\\n5th: {np.quantile(ret_rest, 0.05):.2f}\\n95th: {np.quantile(ret_rest, 0.95):.2f}')\n",
    "    # plt.show()\n",
    "    \n",
    "    print(f'''\n",
    "    Class:{i}\n",
    "    growth rate (median): {np.median(ret_rest):.2f}\n",
    "    mean: {np.mean(ret_rest):.2f}\n",
    "    std: {np.std(ret_rest):.2f}\n",
    "    5th: {np.quantile(ret_rest, 0.05):.2f}\n",
    "    95th: {np.quantile(ret_rest, 0.95):.2f}''')\n",
    "    "
   ]
  },
  {
   "cell_type": "markdown",
   "id": "18caf355-2d5f-4447-850d-269b0905d927",
   "metadata": {},
   "source": [
    "Explanation for combined actions:\n",
    "1. Hold: For growth rates close to 1 with low volatility.\n",
    "2. Sell/Put: For growth rates below 1, with \"Put\" used for high volatility.\n",
    "3. Buy/Call: For growth rates above 1, with \"Call\" used for high volatility.\n",
    "\n",
    "We will use the following thresholds:\n",
    "\n",
    "- Growth rate < 1: Sell/Put\n",
    "- Growth rate > 1: Buy/Call\n",
    "- Growth rate close to 1: Hold\n",
    "- Low volatility: std < 0.25\n",
    "- High volatility: std >= 0.25\n",
    "\n",
    "- Buy/Call: High growth rate (> 1) with high volatility (std >= 0.25)\n",
    "- Sell/Put: Low growth rate (< 1) with high volatility (std >= 0.25)\n",
    "\n",
    "![Action Table](action-tatble.png)"
   ]
  },
  {
   "cell_type": "markdown",
   "id": "c9ebd4ed-75cc-477c-8a0f-3fe63281914e",
   "metadata": {},
   "source": [
    "| From Class | To Class | Median Growth Rate | Mean Growth Rate | Std Dev | 5th Percentile | 95th Percentile | Actions             | Explanation |\r\n",
    "|------------|----------|---------------------|-------------------|---------|----------------|-----------------|----------------------|-------------|\r\n",
    "| 1          | 3        | 1.51                | 1.68              | 0.76    | 0.78           | 3.12            | call, put            | Very high growth with extreme volatility |\r\n",
    "| 0          | 1        | 1.41                | 1.44              | 0.33    | 0.97           | 2.04            | buy, call            | Strong growth with high potential |\r\n",
    "| 2          | 3        | 1.10                | 1.12              | 0.24    | 0.77           | 1.54            | buy, call            | Strong growth, opportunity for further gains |\r\n",
    "| 1          | 2        | 1.15                | 1.18              | 0.22    | 0.86           | 1.56            | buy, call            | Strong growth, opportunity for further gains |\r\n",
    "| 3          | 1        | 1.17                | 1.17              | 0.24    | 0.79           | 1.57            | put, call            | Strong growth but with potential risk |\r\n",
    "| 1          | 1        | 1.08                | 1.11              | 0.28    | 0.73           | 1.62            | hold, dca            | Moderate growth, stable performance |\r\n",
    "| 3          | 3        | 1.07                | 1.09              | 0.27    | 0.69           | 1.56            | hold, dca            | Moderate growth, stable performance |\r\n",
    "| 1          | 0        | 1.02                | 1.05              | 0.29    | 0.62           | 1.58            | call, dca            | Moderate growth with some risk |\r\n",
    "| 2          | 2        | 0.97                | 0.98              | 0.18    | 0.68           | 1.29            | hold, dca            | Stable but not strong growth |\r\n",
    "| 3          | 2        | 0.96                | 0.97              | 0.23    | 0.63           | 1.37            | sell, dca            | Underperforming, moderate volatility |\r\n",
    "| 2          | 1        | 0.96                | 0.99              | 0.23    | 0.65           | 1.41            | sell, dca            | Underperforming, but stable |\r\n",
    "| 0          | 0        | 1.00                | 1.07              | 0.43    | 0.52           | 1.88            | hold, dca            | Stable but highvolatility |\r\n",
    "ntial risk |\r\n"
   ]
  },
  {
   "cell_type": "code",
   "execution_count": null,
   "id": "25c2c486-699f-4779-8695-7d9fc6bb2914",
   "metadata": {},
   "outputs": [],
   "source": []
  }
 ],
 "metadata": {
  "kernelspec": {
   "display_name": "AIML",
   "language": "python",
   "name": "aiml"
  },
  "language_info": {
   "codemirror_mode": {
    "name": "ipython",
    "version": 3
   },
   "file_extension": ".py",
   "mimetype": "text/x-python",
   "name": "python",
   "nbconvert_exporter": "python",
   "pygments_lexer": "ipython3",
   "version": "3.9.7"
  }
 },
 "nbformat": 4,
 "nbformat_minor": 5
}
