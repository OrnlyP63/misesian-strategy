{
 "cells": [
  {
   "cell_type": "code",
   "execution_count": 1,
   "id": "0a20ef37-c0b1-4b43-91b2-b2a5dd75c9d7",
   "metadata": {},
   "outputs": [],
   "source": [
    "import yfinance as yf\n",
    "import pandas as pd\n",
    "import numpy as np\n",
    "import matplotlib.pyplot as plt"
   ]
  },
  {
   "cell_type": "code",
   "execution_count": 7,
   "id": "d8745013-4c7b-42dd-8f3c-d295e3e4581e",
   "metadata": {},
   "outputs": [],
   "source": [
    "# Define the ticker symbol\n",
    "ticker = 'PTTEP.BK'\n",
    "\n",
    "# Fetch the stock data\n",
    "stock = yf.Ticker(ticker)\n",
    "\n",
    "# Fetch historical market data\n",
    "hist = stock.history(period=\"5y\")\n",
    "\n",
    "# Fetch financial data\n",
    "financials = stock.financials.T\n",
    "balance_sheet = stock.balance_sheet.T"
   ]
  },
  {
   "cell_type": "code",
   "execution_count": 19,
   "id": "affb97e8-3b14-4ef9-a2b4-7d81244149ef",
   "metadata": {},
   "outputs": [
    {
     "data": {
      "text/plain": [
       "Date\n",
       "2019-08-01 00:00:00+07:00    103.561920\n",
       "2019-08-02 00:00:00+07:00    100.876976\n",
       "2019-08-05 00:00:00+07:00    100.493408\n",
       "2019-08-06 00:00:00+07:00    100.109848\n",
       "2019-08-07 00:00:00+07:00    100.305000\n",
       "                                ...    \n",
       "2024-07-25 00:00:00+07:00    144.000000\n",
       "2024-07-26 00:00:00+07:00    147.000000\n",
       "2024-07-30 00:00:00+07:00    147.000000\n",
       "2024-07-31 00:00:00+07:00    147.000000\n",
       "2024-08-01 00:00:00+07:00    151.000000\n",
       "Name: Close, Length: 1212, dtype: float64"
      ]
     },
     "execution_count": 19,
     "metadata": {},
     "output_type": "execute_result"
    }
   ],
   "source": [
    "hist['Close']"
   ]
  },
  {
   "cell_type": "code",
   "execution_count": 23,
   "id": "9a9965d8-d3a1-4a2a-8485-cb905277ab51",
   "metadata": {},
   "outputs": [
    {
     "data": {
      "text/plain": [
       "Index(['Tax Effect Of Unusual Items', 'Tax Rate For Calcs',\n",
       "       'Normalized EBITDA', 'Total Unusual Items',\n",
       "       'Total Unusual Items Excluding Goodwill',\n",
       "       'Net Income From Continuing Operation Net Minority Interest',\n",
       "       'Reconciled Depreciation', 'Reconciled Cost Of Revenue', 'EBITDA',\n",
       "       'EBIT', 'Net Interest Income', 'Interest Expense', 'Interest Income',\n",
       "       'Normalized Income',\n",
       "       'Net Income From Continuing And Discontinued Operation',\n",
       "       'Total Expenses', 'Diluted Average Shares', 'Basic Average Shares',\n",
       "       'Diluted EPS', 'Basic EPS', 'Diluted NI Availto Com Stockholders',\n",
       "       'Net Income Common Stockholders', 'Otherunder Preferred Stock Dividend',\n",
       "       'Net Income', 'Minority Interests',\n",
       "       'Net Income Including Noncontrolling Interests',\n",
       "       'Net Income Continuous Operations', 'Tax Provision', 'Pretax Income',\n",
       "       'Other Income Expense', 'Other Non Operating Income Expenses',\n",
       "       'Special Income Charges', 'Gain On Sale Of Business',\n",
       "       'Other Special Charges', 'Write Off', 'Impairment Of Capital Assets',\n",
       "       'Restructuring And Mergern Acquisition',\n",
       "       'Earnings From Equity Interest', 'Gain On Sale Of Security',\n",
       "       'Net Non Operating Interest Income Expense',\n",
       "       'Interest Expense Non Operating', 'Interest Income Non Operating',\n",
       "       'Operating Income', 'Operating Expense', 'Other Operating Expenses',\n",
       "       'Selling General And Administration',\n",
       "       'General And Administrative Expense', 'Other Gand A', 'Gross Profit',\n",
       "       'Cost Of Revenue', 'Total Revenue', 'Operating Revenue'],\n",
       "      dtype='object')"
      ]
     },
     "execution_count": 23,
     "metadata": {},
     "output_type": "execute_result"
    }
   ],
   "source": [
    "financials.columns"
   ]
  },
  {
   "cell_type": "code",
   "execution_count": 9,
   "id": "7946f4d4-902e-4532-b82e-cc2991b0233e",
   "metadata": {},
   "outputs": [
    {
     "data": {
      "text/html": [
       "<div>\n",
       "<style scoped>\n",
       "    .dataframe tbody tr th:only-of-type {\n",
       "        vertical-align: middle;\n",
       "    }\n",
       "\n",
       "    .dataframe tbody tr th {\n",
       "        vertical-align: top;\n",
       "    }\n",
       "\n",
       "    .dataframe thead th {\n",
       "        text-align: right;\n",
       "    }\n",
       "</style>\n",
       "<table border=\"1\" class=\"dataframe\">\n",
       "  <thead>\n",
       "    <tr style=\"text-align: right;\">\n",
       "      <th></th>\n",
       "      <th>Ordinary Shares Number</th>\n",
       "      <th>Share Issued</th>\n",
       "      <th>Net Debt</th>\n",
       "      <th>Total Debt</th>\n",
       "      <th>Tangible Book Value</th>\n",
       "      <th>Invested Capital</th>\n",
       "      <th>Working Capital</th>\n",
       "      <th>Net Tangible Assets</th>\n",
       "      <th>Capital Lease Obligations</th>\n",
       "      <th>Common Stock Equity</th>\n",
       "      <th>...</th>\n",
       "      <th>Accrued Interest Receivable</th>\n",
       "      <th>Loans Receivable</th>\n",
       "      <th>Accounts Receivable</th>\n",
       "      <th>Allowance For Doubtful Accounts Receivable</th>\n",
       "      <th>Gross Accounts Receivable</th>\n",
       "      <th>Cash Cash Equivalents And Short Term Investments</th>\n",
       "      <th>Other Short Term Investments</th>\n",
       "      <th>Cash And Cash Equivalents</th>\n",
       "      <th>Cash Equivalents</th>\n",
       "      <th>Cash Financial</th>\n",
       "    </tr>\n",
       "  </thead>\n",
       "  <tbody>\n",
       "    <tr>\n",
       "      <th>2023-12-31</th>\n",
       "      <td>3969985400.0</td>\n",
       "      <td>3969985400.0</td>\n",
       "      <td>NaN</td>\n",
       "      <td>125039004000.0</td>\n",
       "      <td>448418400000.0</td>\n",
       "      <td>594646527000.0</td>\n",
       "      <td>146210020000.0</td>\n",
       "      <td>448418400000.0</td>\n",
       "      <td>29718978000.0</td>\n",
       "      <td>499326501000.0</td>\n",
       "      <td>...</td>\n",
       "      <td>NaN</td>\n",
       "      <td>258203000.0</td>\n",
       "      <td>38462000000.0</td>\n",
       "      <td>NaN</td>\n",
       "      <td>38462000000.0</td>\n",
       "      <td>144386506000.0</td>\n",
       "      <td>6844650000.0</td>\n",
       "      <td>137541856000.0</td>\n",
       "      <td>68399000000.0</td>\n",
       "      <td>69143000000.0</td>\n",
       "    </tr>\n",
       "    <tr>\n",
       "      <th>2022-12-31</th>\n",
       "      <td>3969985400.0</td>\n",
       "      <td>3969985400.0</td>\n",
       "      <td>NaN</td>\n",
       "      <td>132478264000.0</td>\n",
       "      <td>409010054000.0</td>\n",
       "      <td>564215301000.0</td>\n",
       "      <td>82226470000.0</td>\n",
       "      <td>409010054000.0</td>\n",
       "      <td>35383569000.0</td>\n",
       "      <td>467120606000.0</td>\n",
       "      <td>...</td>\n",
       "      <td>NaN</td>\n",
       "      <td>45516000.0</td>\n",
       "      <td>34439000000.0</td>\n",
       "      <td>0.0</td>\n",
       "      <td>34439000000.0</td>\n",
       "      <td>122346946000.0</td>\n",
       "      <td>23056000.0</td>\n",
       "      <td>122323890000.0</td>\n",
       "      <td>50821000000.0</td>\n",
       "      <td>71503000000.0</td>\n",
       "    </tr>\n",
       "    <tr>\n",
       "      <th>2021-12-31</th>\n",
       "      <td>3969985400.0</td>\n",
       "      <td>3969985400.0</td>\n",
       "      <td>32130231000.0</td>\n",
       "      <td>136811000000.0</td>\n",
       "      <td>352637030000.0</td>\n",
       "      <td>533007789000.0</td>\n",
       "      <td>35081555000.0</td>\n",
       "      <td>352637030000.0</td>\n",
       "      <td>19152959000.0</td>\n",
       "      <td>415349748000.0</td>\n",
       "      <td>...</td>\n",
       "      <td>NaN</td>\n",
       "      <td>0.0</td>\n",
       "      <td>26613000000.0</td>\n",
       "      <td>-33000000.0</td>\n",
       "      <td>26646000000.0</td>\n",
       "      <td>85527810000.0</td>\n",
       "      <td>0.0</td>\n",
       "      <td>85527810000.0</td>\n",
       "      <td>26847000000.0</td>\n",
       "      <td>58681000000.0</td>\n",
       "    </tr>\n",
       "    <tr>\n",
       "      <th>2020-12-31</th>\n",
       "      <td>3969985400.0</td>\n",
       "      <td>3969985400.0</td>\n",
       "      <td>NaN</td>\n",
       "      <td>118107497000.0</td>\n",
       "      <td>293307444000.0</td>\n",
       "      <td>457289033000.0</td>\n",
       "      <td>96458824000.0</td>\n",
       "      <td>293307444000.0</td>\n",
       "      <td>15229344000.0</td>\n",
       "      <td>354410880000.0</td>\n",
       "      <td>...</td>\n",
       "      <td>NaN</td>\n",
       "      <td>NaN</td>\n",
       "      <td>17186000000.0</td>\n",
       "      <td>-33000000.0</td>\n",
       "      <td>17219000000.0</td>\n",
       "      <td>114261079000.0</td>\n",
       "      <td>3003707000.0</td>\n",
       "      <td>111257372000.0</td>\n",
       "      <td>74532000000.0</td>\n",
       "      <td>36725000000.0</td>\n",
       "    </tr>\n",
       "    <tr>\n",
       "      <th>2019-12-31</th>\n",
       "      <td>NaN</td>\n",
       "      <td>NaN</td>\n",
       "      <td>14326469864.0</td>\n",
       "      <td>NaN</td>\n",
       "      <td>NaN</td>\n",
       "      <td>NaN</td>\n",
       "      <td>NaN</td>\n",
       "      <td>NaN</td>\n",
       "      <td>NaN</td>\n",
       "      <td>NaN</td>\n",
       "      <td>...</td>\n",
       "      <td>218112866.0</td>\n",
       "      <td>NaN</td>\n",
       "      <td>NaN</td>\n",
       "      <td>-33130000.0</td>\n",
       "      <td>NaN</td>\n",
       "      <td>NaN</td>\n",
       "      <td>NaN</td>\n",
       "      <td>NaN</td>\n",
       "      <td>NaN</td>\n",
       "      <td>NaN</td>\n",
       "    </tr>\n",
       "  </tbody>\n",
       "</table>\n",
       "<p>5 rows × 98 columns</p>\n",
       "</div>"
      ],
      "text/plain": [
       "           Ordinary Shares Number  Share Issued       Net Debt  \\\n",
       "2023-12-31           3969985400.0  3969985400.0            NaN   \n",
       "2022-12-31           3969985400.0  3969985400.0            NaN   \n",
       "2021-12-31           3969985400.0  3969985400.0  32130231000.0   \n",
       "2020-12-31           3969985400.0  3969985400.0            NaN   \n",
       "2019-12-31                    NaN           NaN  14326469864.0   \n",
       "\n",
       "                Total Debt Tangible Book Value Invested Capital  \\\n",
       "2023-12-31  125039004000.0      448418400000.0   594646527000.0   \n",
       "2022-12-31  132478264000.0      409010054000.0   564215301000.0   \n",
       "2021-12-31  136811000000.0      352637030000.0   533007789000.0   \n",
       "2020-12-31  118107497000.0      293307444000.0   457289033000.0   \n",
       "2019-12-31             NaN                 NaN              NaN   \n",
       "\n",
       "           Working Capital Net Tangible Assets Capital Lease Obligations  \\\n",
       "2023-12-31  146210020000.0      448418400000.0             29718978000.0   \n",
       "2022-12-31   82226470000.0      409010054000.0             35383569000.0   \n",
       "2021-12-31   35081555000.0      352637030000.0             19152959000.0   \n",
       "2020-12-31   96458824000.0      293307444000.0             15229344000.0   \n",
       "2019-12-31             NaN                 NaN                       NaN   \n",
       "\n",
       "           Common Stock Equity  ... Accrued Interest Receivable  \\\n",
       "2023-12-31      499326501000.0  ...                         NaN   \n",
       "2022-12-31      467120606000.0  ...                         NaN   \n",
       "2021-12-31      415349748000.0  ...                         NaN   \n",
       "2020-12-31      354410880000.0  ...                         NaN   \n",
       "2019-12-31                 NaN  ...                 218112866.0   \n",
       "\n",
       "           Loans Receivable Accounts Receivable  \\\n",
       "2023-12-31      258203000.0       38462000000.0   \n",
       "2022-12-31       45516000.0       34439000000.0   \n",
       "2021-12-31              0.0       26613000000.0   \n",
       "2020-12-31              NaN       17186000000.0   \n",
       "2019-12-31              NaN                 NaN   \n",
       "\n",
       "           Allowance For Doubtful Accounts Receivable  \\\n",
       "2023-12-31                                        NaN   \n",
       "2022-12-31                                        0.0   \n",
       "2021-12-31                                -33000000.0   \n",
       "2020-12-31                                -33000000.0   \n",
       "2019-12-31                                -33130000.0   \n",
       "\n",
       "           Gross Accounts Receivable  \\\n",
       "2023-12-31             38462000000.0   \n",
       "2022-12-31             34439000000.0   \n",
       "2021-12-31             26646000000.0   \n",
       "2020-12-31             17219000000.0   \n",
       "2019-12-31                       NaN   \n",
       "\n",
       "           Cash Cash Equivalents And Short Term Investments  \\\n",
       "2023-12-31                                   144386506000.0   \n",
       "2022-12-31                                   122346946000.0   \n",
       "2021-12-31                                    85527810000.0   \n",
       "2020-12-31                                   114261079000.0   \n",
       "2019-12-31                                              NaN   \n",
       "\n",
       "           Other Short Term Investments Cash And Cash Equivalents  \\\n",
       "2023-12-31                 6844650000.0            137541856000.0   \n",
       "2022-12-31                   23056000.0            122323890000.0   \n",
       "2021-12-31                          0.0             85527810000.0   \n",
       "2020-12-31                 3003707000.0            111257372000.0   \n",
       "2019-12-31                          NaN                       NaN   \n",
       "\n",
       "           Cash Equivalents Cash Financial  \n",
       "2023-12-31    68399000000.0  69143000000.0  \n",
       "2022-12-31    50821000000.0  71503000000.0  \n",
       "2021-12-31    26847000000.0  58681000000.0  \n",
       "2020-12-31    74532000000.0  36725000000.0  \n",
       "2019-12-31              NaN            NaN  \n",
       "\n",
       "[5 rows x 98 columns]"
      ]
     },
     "execution_count": 9,
     "metadata": {},
     "output_type": "execute_result"
    }
   ],
   "source": [
    "balance_sheet"
   ]
  },
  {
   "cell_type": "code",
   "execution_count": 20,
   "id": "2fc518b1-33af-4b13-afe4-50a8e273b79f",
   "metadata": {
    "scrolled": true
   },
   "outputs": [],
   "source": [
    "# Define columns of interest\n",
    "columns = {\n",
    "    'TOTAL_CURRENT_ASSETS': 'Total Current Assets',\n",
    "    'PPE_TOTAL_NET': 'Net PPE',\n",
    "    'CAPITAL_OPERATING_LEASE_OBLIGATIONS': 'Capital Leases',\n",
    "    'LONG_TERM_INVESTMENTS': 'Long Term Investments',\n",
    "    'TOTAL_CURRENT_LIABILITIES': 'Total Current Liabilities',\n",
    "    'CASH_N_EQUIVALENTS': 'Cash And Cash Equivalents',\n",
    "    'TOTAL_SHARES_OUTSTANDING': 'Shares Outstanding',\n",
    "    'LONG_TERM_DEBT': 'Long Term Debt',\n",
    "    'PREFERRED_STOCK_CARRYING_VALUE': 'Preferred Stock'\n",
    "}\n",
    "\n",
    "# # Extract financial data\n",
    "# data = {}\n",
    "# for key, value in columns.items():\n",
    "#     data[key] = balance_sheet[value] if value in balance_sheet.columns else financials[value]\n",
    "\n",
    "# # Create a DataFrame\n",
    "# df = pd.DataFrame(data)"
   ]
  },
  {
   "cell_type": "code",
   "execution_count": 22,
   "id": "5afeea38-c76e-45fc-bd6f-2f65de9f3cb8",
   "metadata": {},
   "outputs": [
    {
     "data": {
      "text/plain": [
       "['Total Unusual Items',\n",
       " 'Total Unusual Items Excluding Goodwill',\n",
       " 'Total Expenses',\n",
       " 'Total Revenue']"
      ]
     },
     "execution_count": 22,
     "metadata": {},
     "output_type": "execute_result"
    }
   ],
   "source": [
    "[sel for sel in financials.columns if 'Total' in sel]"
   ]
  },
  {
   "cell_type": "code",
   "execution_count": 25,
   "id": "da566c91-3c22-47d8-b34a-1deb8110963b",
   "metadata": {},
   "outputs": [],
   "source": [
    "df = financials"
   ]
  },
  {
   "cell_type": "code",
   "execution_count": 28,
   "id": "b8e596a0-5993-45c9-82f5-4490203a1978",
   "metadata": {},
   "outputs": [],
   "source": [
    "# Calculate Invested Capital\n",
    "df['invested_capital'] = (df['Total Revenue'] + df['Gross Profit'] + df['Operating Revenue'] -\n",
    "                          df['Total Expenses'])"
   ]
  },
  {
   "cell_type": "code",
   "execution_count": 29,
   "id": "1c5fb2ad-ae96-4acb-af10-2974a1279033",
   "metadata": {},
   "outputs": [
    {
     "data": {
      "text/plain": [
       "2023-12-31    645221917000.0\n",
       "2022-12-31    717409659000.0\n",
       "2021-12-31    436377256000.0\n",
       "2020-12-31    287256872000.0\n",
       "2019-12-31               NaN\n",
       "Name: invested_capital, dtype: object"
      ]
     },
     "execution_count": 29,
     "metadata": {},
     "output_type": "execute_result"
    }
   ],
   "source": [
    "df['invested_capital'] "
   ]
  },
  {
   "cell_type": "code",
   "execution_count": 30,
   "id": "f2ab05c1-20d6-41d5-8f33-1d14e1577636",
   "metadata": {},
   "outputs": [
    {
     "data": {
      "text/plain": [
       "2023-12-31    304524376240000008192.0\n",
       "2022-12-31    281478299950000013312.0\n",
       "2021-12-31    154288472150000009216.0\n",
       "2020-12-31     89976123669999992832.0\n",
       "2019-12-31                        NaN\n",
       "dtype: object"
      ]
     },
     "execution_count": 30,
     "metadata": {},
     "output_type": "execute_result"
    }
   ],
   "source": [
    "df['Diluted Average Shares'] * df['Net Income']"
   ]
  },
  {
   "cell_type": "code",
   "execution_count": null,
   "id": "edf78f42-8d65-4de8-9d7e-819978b7e6bc",
   "metadata": {},
   "outputs": [],
   "source": []
  }
 ],
 "metadata": {
  "kernelspec": {
   "display_name": "AIML",
   "language": "python",
   "name": "aiml"
  },
  "language_info": {
   "codemirror_mode": {
    "name": "ipython",
    "version": 3
   },
   "file_extension": ".py",
   "mimetype": "text/x-python",
   "name": "python",
   "nbconvert_exporter": "python",
   "pygments_lexer": "ipython3",
   "version": "3.9.7"
  }
 },
 "nbformat": 4,
 "nbformat_minor": 5
}
