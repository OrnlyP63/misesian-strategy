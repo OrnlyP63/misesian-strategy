import pandas as pd
import numpy as np
from datetime import datetime


import matplotlib.pyplot as plt
plt.style.use('seaborn-v0_8')

# Set the font family to Tahoma
plt.rcParams['font.family'] = 'Tahoma'


from scipy.stats import entropy


def mutual_information(x, y, bins=10):
    # Compute the joint histogram
    hist, x_edges, y_edges = np.histogram2d(x, y, bins=bins)

    # Compute marginal histograms
    px = np.sum(hist, axis=1)
    py = np.sum(hist, axis=0)

    # Compute entropy of marginal distributions
    Hx = entropy(px)
    Hy = entropy(py)

    # Compute joint entropy
    Hxy = entropy(hist.flatten())

    # Compute mutual information
    MI = Hx + Hy - Hxy
    return MI

def find_optimal_delay(time_series, max_delay=120, bins=30):
    mutual_infos = []
    delays = range(1, max_delay + 1)
    
    for delay in delays:
        x = time_series[:-delay]
        y = time_series[delay:]
        mutual_info = mutual_information(x, y, bins=bins)
        mutual_infos.append(mutual_info)

    optimal_delay_index = np.argmin(mutual_infos)
    optimal_delay = delays[optimal_delay_index]
    
    return optimal_delay


# Dictionary to map Thai month abbreviations to month numbers
thai_months = {
    "ม.ค.": 1,
    "ก.พ.": 2,
    "มี.ค.": 3,
    "เม.ย.": 4,
    "พ.ค.": 5,
    "มิ.ย.": 6,
    "ก.ค.": 7,
    "ส.ค.": 8,
    "ก.ย.": 9,
    "ต.ค.": 10,
    "พ.ย.": 11,
    "ธ.ค.": 12
}

def convert_thai_date(thai_date):
    # Split the input string
    thai_month_abbr, buddhist_year = thai_date.split("-")
    
    # Convert the Thai month abbreviation to a month number
    month = thai_months[thai_month_abbr.strip()]
    
    # Convert the Buddhist year to Gregorian year
    year = int(buddhist_year.strip())
    if year >= 88:
        year += 1900
    else:
        year += 2000
    # Use the first day of the month for the conversion
    day = 1
    
    # Create a datetime object
    date = datetime(year, month, day)
    
    # Return the formatted date in "Y-M-d" format
    return date.strftime("%Y-%m-%d")


df = pd.read_csv('./Table_PBV.csv', skiprows=3)


df['SET'] = pd.to_numeric(df['SET'], errors='coerce')


selected_df = df[['Month-Year', 'SET']].dropna(axis=0)[::-1].copy()


selected_df['Month-Year'] = selected_df['Month-Year'].apply(convert_thai_date)
selected_df['Month-Year'] = pd.to_datetime(selected_df['Month-Year'])


selected_df.set_index('Month-Year', inplace=True)


selected_df['log-SET'] = np.log(selected_df['SET'])


# selected_df['SET'][::-1].cumprod()** (1 / np.arange(1, len(selected_df)+1))
selected_df['gmean-SET'] = np.exp(selected_df['log-SET'].cumsum() / np.arange(1, len(selected_df)+1))


selected_df['scaled-SET'] = selected_df['SET'] / selected_df['gmean-SET'].shift()


selected_df['scaled-SET'].plot();


n = 4
selected_df['quarter'], bins = pd.qcut(selected_df['scaled-SET'], q=n, labels=False, retbins=True)


time_series = selected_df['scaled-SET'].dropna()

optimal_delay = find_optimal_delay(time_series)
print("Optimal time delay:", optimal_delay)


# Plot masked points
plt.figure(figsize=(16, 8))
selected_df['scaled-SET'].plot()

# Add labels, title, and legend
plt.xlabel('Date')
plt.ylabel('Scaled SET')
plt.title('Mises Stationarity Index', fontsize=18)
plt.legend()
# plt.axhline(y = 1, color = 'k', linestyle = '--') 
for b in bins:
    plt.axhline(y = b, color = 'k', linestyle = '--') 

# Plot vertical lines every 117 days
for date in pd.date_range(start=selected_df.index.min(), end=selected_df.index.max(), freq=f'{optimal_delay}M'):
    plt.axvline(x=date, color='r', linestyle='--', alpha=0.5)
# Show the plot
plt.savefig('crisis-analyze-set.png')
plt.show()


selected_df.to_csv('gmean-set.csv')


selected_df.loc['2022-06-01':].shape



