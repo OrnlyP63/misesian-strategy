


import pandas as pd
import numpy as np
from datetime import datetime


import matplotlib.pyplot as plt
plt.style.use('seaborn-v0_8')

# Set the font family to Tahoma
plt.rcParams['font.family'] = 'Tahoma'


# Dictionary to map Thai month abbreviations to month numbers
thai_months = {
    "ม.ค.": 1,
    "ก.พ.": 2,
    "มี.ค.": 3,
    "เม.ย.": 4,
    "พ.ค.": 5,
    "มิ.ย.": 6,
    "ก.ค.": 7,
    "ส.ค.": 8,
    "ก.ย.": 9,
    "ต.ค.": 10,
    "พ.ย.": 11,
    "ธ.ค.": 12
}

def convert_thai_date(thai_date):
    # Split the input string
    thai_month_abbr, buddhist_year = thai_date.split("-")
    
    # Convert the Thai month abbreviation to a month number
    month = thai_months[thai_month_abbr.strip()]
    
    # Convert the Buddhist year to Gregorian year
    year = int(buddhist_year.strip())
    if year >= 88:
        year += 1900
    else:
        year += 2000
    # Use the first day of the month for the conversion
    day = 1
    
    # Create a datetime object
    date = datetime(year, month, day)
    
    # Return the formatted date in "Y-M-d" format
    return date.strftime("%Y-%m-%d")


df = pd.read_csv('./Table_PBV.csv', skiprows=3)


df.head()


df['SET50'] = pd.to_numeric(df['SET50'], errors='coerce')


selected_df = df[['Month-Year', 'SET50']].dropna(axis=0)[::-1].copy()


selected_df.head()


selected_df['Month-Year'] = selected_df['Month-Year'].apply(convert_thai_date)
selected_df['Month-Year'] = pd.to_datetime(selected_df['Month-Year'])


selected_df.set_index('Month-Year', inplace=True)


selected_df['log-SET'] = np.log(selected_df['SET50'])


# selected_df['SET'][::-1].cumprod()** (1 / np.arange(1, len(selected_df)+1))
selected_df['gmean-SET'] = np.exp(selected_df['log-SET'].cumsum() / np.arange(1, len(selected_df)+1))


selected_df['scaled-SET'] = selected_df['SET50'] / selected_df['gmean-SET'].shift()


n = 4
selected_df['quarter'], bins = pd.qcut(selected_df['scaled-SET'], q=n, labels=False, retbins=True)


selected_df['scaled-SET'].plot();
for b in bins:
    plt.axhline(y = b, color = 'k', linestyle = '--') 


selected_df


set_index = pd.read_csv('./Table_Index.csv', skiprows=3)
set_index['SET501/'] = set_index['SET501/'].str.replace(',', '')

set_index['SET501/'] = pd.to_numeric(set_index['SET501/'], errors='coerce')
set_index = set_index[['Month-Year', 'SET501/']].dropna(axis=0)[::-2].copy()

set_index['Month-Year'] = set_index['Month-Year'].apply(convert_thai_date)
set_index['Month-Year'] = pd.to_datetime(set_index['Month-Year'])


set_index.set_index('Month-Year', inplace=True)


selected_df['set-index'] = set_index


selected_df['ret'] = selected_df['set-index'].pct_change()


selected_df.to_csv('set50.csv')


selected_df['quarter-shift'] = selected_df['quarter'].shift(1)


state_switching = []
for (present, past) in zip(selected_df['quarter'], selected_df['quarter-shift']):
    if np.isnan(present) or np.isnan(past):
        state_switching.append(np.nan)
    else:
        state_switching.append(f'{int(past)}=>{int(present)}')


selected_df['regime-switching'] = state_switching


selected_df['regime-switching'].value_counts()


selected_df[selected_df['regime-switching'] == '1=>3']


m = 100000
d = 4

for i in selected_df['regime-switching'].dropna().unique():

    mask_index = selected_df[selected_df['regime-switching'] == i].index
    rets = []
    for mi in mask_index:
        rets += selected_df.loc[mi: mi + pd.DateOffset(months=11)]['ret'].tolist()
    
    bootstrapping_sample = np.random.choice(rets, size=(m, d), replace=True) + 1
        
    ret_rest = np.prod(bootstrapping_sample, axis=1)
    
    # plt.hist(ret_rest, bins=100)
    # plt.title(f'Class:{i}\nGrowth: {np.median(ret_rest):.2f}\n5th: {np.quantile(ret_rest, 0.05):.2f}\n95th: {np.quantile(ret_rest, 0.95):.2f}')
    # plt.show()
    
    print(f'''
    Class:{i}
    growth rate (median): {np.median(ret_rest):.2f}
    mean: {np.mean(ret_rest):.2f}
    std: {np.std(ret_rest):.2f}
    5th: {np.quantile(ret_rest, 0.05):.2f}
    95th: {np.quantile(ret_rest, 0.95):.2f}''')
    



