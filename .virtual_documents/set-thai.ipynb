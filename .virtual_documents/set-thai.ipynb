# import libs
import yfinance as yf
import pandas as pd
import numpy as np

import matplotlib.pyplot as plt


tickers = ['PTTEP.BK', 'LANNA.BK', 'TIPH.BK']


interval = '1d'
start = '2008-8-1'
end = '2024-8-1'

stock = yf.Ticker(tickers[0])
stock_df = stock.history(interval='1d',start=start,end=end)


stock_df


stock_df['rets'] = stock_df['Close'].pct_change()


set = pd.read_csv('./gmean-set.csv')


set['Month-Year'] = pd.to_datetime(set['Month-Year'])
set.set_index('Month-Year', inplace=True)


set = set[set.index.year >= 2008]


last_quarter = set.iloc[-1, -1]


a = np.array([False]*stock_df.shape[0])

for x in set[set['quarter'] == last_quarter].index:
    a |= (stock_df.index.year == x.year) & (stock_df.index.month == x.month)


stock_df[a].index[0] + pd.DateOffset(months=4)


all_returns = []
for date in stock_df[a].index:
    ret = stock_df.loc[date: date + pd.DateOffset(months=4)]['rets'].tolist()
    all_returns.extend(ret)


m = 100000 # number of paths
d = 120
rearrange_return = np.random.choice(all_returns, size= (m, d), replace=True)
portfolios = np.exp(np.cumprod(rearrange_return + 1, axis=1))


final_portfolios = portfolios[:, -1] - 1

med = np.median(final_portfolios)
avg = np.average(final_portfolios)
per_5 = np.percentile(np.sort(final_portfolios), 5)
per_95 = np.percentile(np.sort(final_portfolios), 95)
plt.title(f'average = {avg:.2f}; median = {med:.2f}\n5th percentile = {per_5:.2f}\n95th percentile = {per_95:.2f}')
plt.xlabel('Payoff')
plt.ylabel('Frequency')
plt.hist(final_portfolios, 100);



